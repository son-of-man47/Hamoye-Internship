{
 "cells": [
  {
   "cell_type": "markdown",
   "id": "f24cd698",
   "metadata": {},
   "source": [
    "# importing all the libraries to be used"
   ]
  },
  {
   "cell_type": "code",
   "execution_count": 1,
   "id": "87ac603f",
   "metadata": {},
   "outputs": [],
   "source": [
    "import pandas as pd\n",
    "import numpy as np\n",
    "import seaborn as sns\n",
    "import matplotlib.pyplot as plt \n",
    "from sklearn.preprocessing import MinMaxScaler\n",
    "from sklearn.model_selection import train_test_split\n",
    "from sklearn.metrics import mean_absolute_error\n",
    "from sklearn.metrics import mean_squared_error\n",
    "from sklearn.metrics import r2_score\n",
    "from sklearn.linear_model import LinearRegression"
   ]
  },
  {
   "cell_type": "code",
   "execution_count": 2,
   "id": "6b4749d6",
   "metadata": {},
   "outputs": [],
   "source": [
    "dt = pd.read_excel(\"C:/Users/IROANYA/Documents/DATA ANALYSIS FILES/hamoye files/stage B/ENB2012_data.xlsx\")"
   ]
  },
  {
   "cell_type": "code",
   "execution_count": 3,
   "id": "96159484",
   "metadata": {},
   "outputs": [],
   "source": [
    "df = dt.copy()"
   ]
  },
  {
   "cell_type": "code",
   "execution_count": 4,
   "id": "1380a920",
   "metadata": {},
   "outputs": [
    {
     "data": {
      "text/html": [
       "<div>\n",
       "<style scoped>\n",
       "    .dataframe tbody tr th:only-of-type {\n",
       "        vertical-align: middle;\n",
       "    }\n",
       "\n",
       "    .dataframe tbody tr th {\n",
       "        vertical-align: top;\n",
       "    }\n",
       "\n",
       "    .dataframe thead th {\n",
       "        text-align: right;\n",
       "    }\n",
       "</style>\n",
       "<table border=\"1\" class=\"dataframe\">\n",
       "  <thead>\n",
       "    <tr style=\"text-align: right;\">\n",
       "      <th></th>\n",
       "      <th>X1</th>\n",
       "      <th>X2</th>\n",
       "      <th>X3</th>\n",
       "      <th>X4</th>\n",
       "      <th>X5</th>\n",
       "      <th>X6</th>\n",
       "      <th>X7</th>\n",
       "      <th>X8</th>\n",
       "      <th>Y1</th>\n",
       "      <th>Y2</th>\n",
       "    </tr>\n",
       "  </thead>\n",
       "  <tbody>\n",
       "    <tr>\n",
       "      <th>0</th>\n",
       "      <td>0.98</td>\n",
       "      <td>514.5</td>\n",
       "      <td>294.0</td>\n",
       "      <td>110.25</td>\n",
       "      <td>7.0</td>\n",
       "      <td>2</td>\n",
       "      <td>0.0</td>\n",
       "      <td>0</td>\n",
       "      <td>15.55</td>\n",
       "      <td>21.33</td>\n",
       "    </tr>\n",
       "    <tr>\n",
       "      <th>1</th>\n",
       "      <td>0.98</td>\n",
       "      <td>514.5</td>\n",
       "      <td>294.0</td>\n",
       "      <td>110.25</td>\n",
       "      <td>7.0</td>\n",
       "      <td>3</td>\n",
       "      <td>0.0</td>\n",
       "      <td>0</td>\n",
       "      <td>15.55</td>\n",
       "      <td>21.33</td>\n",
       "    </tr>\n",
       "    <tr>\n",
       "      <th>2</th>\n",
       "      <td>0.98</td>\n",
       "      <td>514.5</td>\n",
       "      <td>294.0</td>\n",
       "      <td>110.25</td>\n",
       "      <td>7.0</td>\n",
       "      <td>4</td>\n",
       "      <td>0.0</td>\n",
       "      <td>0</td>\n",
       "      <td>15.55</td>\n",
       "      <td>21.33</td>\n",
       "    </tr>\n",
       "    <tr>\n",
       "      <th>3</th>\n",
       "      <td>0.98</td>\n",
       "      <td>514.5</td>\n",
       "      <td>294.0</td>\n",
       "      <td>110.25</td>\n",
       "      <td>7.0</td>\n",
       "      <td>5</td>\n",
       "      <td>0.0</td>\n",
       "      <td>0</td>\n",
       "      <td>15.55</td>\n",
       "      <td>21.33</td>\n",
       "    </tr>\n",
       "    <tr>\n",
       "      <th>4</th>\n",
       "      <td>0.90</td>\n",
       "      <td>563.5</td>\n",
       "      <td>318.5</td>\n",
       "      <td>122.50</td>\n",
       "      <td>7.0</td>\n",
       "      <td>2</td>\n",
       "      <td>0.0</td>\n",
       "      <td>0</td>\n",
       "      <td>20.84</td>\n",
       "      <td>28.28</td>\n",
       "    </tr>\n",
       "  </tbody>\n",
       "</table>\n",
       "</div>"
      ],
      "text/plain": [
       "     X1     X2     X3      X4   X5  X6   X7  X8     Y1     Y2\n",
       "0  0.98  514.5  294.0  110.25  7.0   2  0.0   0  15.55  21.33\n",
       "1  0.98  514.5  294.0  110.25  7.0   3  0.0   0  15.55  21.33\n",
       "2  0.98  514.5  294.0  110.25  7.0   4  0.0   0  15.55  21.33\n",
       "3  0.98  514.5  294.0  110.25  7.0   5  0.0   0  15.55  21.33\n",
       "4  0.90  563.5  318.5  122.50  7.0   2  0.0   0  20.84  28.28"
      ]
     },
     "execution_count": 4,
     "metadata": {},
     "output_type": "execute_result"
    }
   ],
   "source": [
    "df.head()"
   ]
  },
  {
   "cell_type": "code",
   "execution_count": 5,
   "id": "dba92009",
   "metadata": {},
   "outputs": [],
   "source": [
    "col = {\"X1\": \"Relative_Compactness\",\n",
    "          \"X2\": \"Surface_Area\", \"X3\": \"Wall_Area\",\n",
    "          \"X4\": \"Roof_Area\", \"X5\": \"Overall_Height\",\n",
    "          \"X6\": \"Orientation\", \"X7\": \"Glazing_Area\",\n",
    "          \"X8\": \"Glazing_Area_Distribution\",\n",
    "          \"Y1\": \"Heating_Load\", \"Y2\": \"Cooling_Load\"}         "
   ]
  },
  {
   "cell_type": "code",
   "execution_count": 6,
   "id": "147eeaff",
   "metadata": {},
   "outputs": [],
   "source": [
    "df = df.rename(columns = col)"
   ]
  },
  {
   "cell_type": "code",
   "execution_count": 7,
   "id": "10e3654a",
   "metadata": {},
   "outputs": [
    {
     "data": {
      "text/html": [
       "<div>\n",
       "<style scoped>\n",
       "    .dataframe tbody tr th:only-of-type {\n",
       "        vertical-align: middle;\n",
       "    }\n",
       "\n",
       "    .dataframe tbody tr th {\n",
       "        vertical-align: top;\n",
       "    }\n",
       "\n",
       "    .dataframe thead th {\n",
       "        text-align: right;\n",
       "    }\n",
       "</style>\n",
       "<table border=\"1\" class=\"dataframe\">\n",
       "  <thead>\n",
       "    <tr style=\"text-align: right;\">\n",
       "      <th></th>\n",
       "      <th>Relative_Compactness</th>\n",
       "      <th>Surface_Area</th>\n",
       "      <th>Wall_Area</th>\n",
       "      <th>Roof_Area</th>\n",
       "      <th>Overall_Height</th>\n",
       "      <th>Orientation</th>\n",
       "      <th>Glazing_Area</th>\n",
       "      <th>Glazing_Area_Distribution</th>\n",
       "      <th>Heating_Load</th>\n",
       "      <th>Cooling_Load</th>\n",
       "    </tr>\n",
       "  </thead>\n",
       "  <tbody>\n",
       "    <tr>\n",
       "      <th>0</th>\n",
       "      <td>0.98</td>\n",
       "      <td>514.5</td>\n",
       "      <td>294.0</td>\n",
       "      <td>110.25</td>\n",
       "      <td>7.0</td>\n",
       "      <td>2</td>\n",
       "      <td>0.0</td>\n",
       "      <td>0</td>\n",
       "      <td>15.55</td>\n",
       "      <td>21.33</td>\n",
       "    </tr>\n",
       "    <tr>\n",
       "      <th>1</th>\n",
       "      <td>0.98</td>\n",
       "      <td>514.5</td>\n",
       "      <td>294.0</td>\n",
       "      <td>110.25</td>\n",
       "      <td>7.0</td>\n",
       "      <td>3</td>\n",
       "      <td>0.0</td>\n",
       "      <td>0</td>\n",
       "      <td>15.55</td>\n",
       "      <td>21.33</td>\n",
       "    </tr>\n",
       "    <tr>\n",
       "      <th>2</th>\n",
       "      <td>0.98</td>\n",
       "      <td>514.5</td>\n",
       "      <td>294.0</td>\n",
       "      <td>110.25</td>\n",
       "      <td>7.0</td>\n",
       "      <td>4</td>\n",
       "      <td>0.0</td>\n",
       "      <td>0</td>\n",
       "      <td>15.55</td>\n",
       "      <td>21.33</td>\n",
       "    </tr>\n",
       "    <tr>\n",
       "      <th>3</th>\n",
       "      <td>0.98</td>\n",
       "      <td>514.5</td>\n",
       "      <td>294.0</td>\n",
       "      <td>110.25</td>\n",
       "      <td>7.0</td>\n",
       "      <td>5</td>\n",
       "      <td>0.0</td>\n",
       "      <td>0</td>\n",
       "      <td>15.55</td>\n",
       "      <td>21.33</td>\n",
       "    </tr>\n",
       "    <tr>\n",
       "      <th>4</th>\n",
       "      <td>0.90</td>\n",
       "      <td>563.5</td>\n",
       "      <td>318.5</td>\n",
       "      <td>122.50</td>\n",
       "      <td>7.0</td>\n",
       "      <td>2</td>\n",
       "      <td>0.0</td>\n",
       "      <td>0</td>\n",
       "      <td>20.84</td>\n",
       "      <td>28.28</td>\n",
       "    </tr>\n",
       "  </tbody>\n",
       "</table>\n",
       "</div>"
      ],
      "text/plain": [
       "   Relative_Compactness  Surface_Area  Wall_Area  Roof_Area  Overall_Height  \\\n",
       "0                  0.98         514.5      294.0     110.25             7.0   \n",
       "1                  0.98         514.5      294.0     110.25             7.0   \n",
       "2                  0.98         514.5      294.0     110.25             7.0   \n",
       "3                  0.98         514.5      294.0     110.25             7.0   \n",
       "4                  0.90         563.5      318.5     122.50             7.0   \n",
       "\n",
       "   Orientation  Glazing_Area  Glazing_Area_Distribution  Heating_Load  \\\n",
       "0            2           0.0                          0         15.55   \n",
       "1            3           0.0                          0         15.55   \n",
       "2            4           0.0                          0         15.55   \n",
       "3            5           0.0                          0         15.55   \n",
       "4            2           0.0                          0         20.84   \n",
       "\n",
       "   Cooling_Load  \n",
       "0         21.33  \n",
       "1         21.33  \n",
       "2         21.33  \n",
       "3         21.33  \n",
       "4         28.28  "
      ]
     },
     "execution_count": 7,
     "metadata": {},
     "output_type": "execute_result"
    }
   ],
   "source": [
    "df.head()"
   ]
  },
  {
   "cell_type": "markdown",
   "id": "8ebbd5fc",
   "metadata": {},
   "source": [
    "First of all we normalize our dataset to a common scale using the \"MinMaxScaler\" that was inported above"
   ]
  },
  {
   "cell_type": "code",
   "execution_count": 8,
   "id": "3bcf42e2",
   "metadata": {},
   "outputs": [],
   "source": [
    "scaler = MinMaxScaler() \n",
    "##MinMaxScaler transforms all the numbers in the dataset to a given range of \n",
    "##1 & 0 "
   ]
  },
  {
   "cell_type": "code",
   "execution_count": 9,
   "id": "0bcd5aeb",
   "metadata": {},
   "outputs": [],
   "source": [
    "##normalizing the dataset now\n",
    "n_df = pd.DataFrame(scaler.fit_transform(df), columns = df.columns) \n",
    "##fit_transform first of all fits the data and then transforms it"
   ]
  },
  {
   "cell_type": "code",
   "execution_count": 10,
   "id": "44fdd85e",
   "metadata": {},
   "outputs": [
    {
     "data": {
      "text/html": [
       "<div>\n",
       "<style scoped>\n",
       "    .dataframe tbody tr th:only-of-type {\n",
       "        vertical-align: middle;\n",
       "    }\n",
       "\n",
       "    .dataframe tbody tr th {\n",
       "        vertical-align: top;\n",
       "    }\n",
       "\n",
       "    .dataframe thead th {\n",
       "        text-align: right;\n",
       "    }\n",
       "</style>\n",
       "<table border=\"1\" class=\"dataframe\">\n",
       "  <thead>\n",
       "    <tr style=\"text-align: right;\">\n",
       "      <th></th>\n",
       "      <th>Relative_Compactness</th>\n",
       "      <th>Surface_Area</th>\n",
       "      <th>Wall_Area</th>\n",
       "      <th>Roof_Area</th>\n",
       "      <th>Overall_Height</th>\n",
       "      <th>Orientation</th>\n",
       "      <th>Glazing_Area</th>\n",
       "      <th>Glazing_Area_Distribution</th>\n",
       "      <th>Heating_Load</th>\n",
       "      <th>Cooling_Load</th>\n",
       "    </tr>\n",
       "  </thead>\n",
       "  <tbody>\n",
       "    <tr>\n",
       "      <th>0</th>\n",
       "      <td>1.000000</td>\n",
       "      <td>0.000000</td>\n",
       "      <td>0.285714</td>\n",
       "      <td>0.000000</td>\n",
       "      <td>1.0</td>\n",
       "      <td>0.000000</td>\n",
       "      <td>0.0</td>\n",
       "      <td>0.0</td>\n",
       "      <td>0.257212</td>\n",
       "      <td>0.280905</td>\n",
       "    </tr>\n",
       "    <tr>\n",
       "      <th>1</th>\n",
       "      <td>1.000000</td>\n",
       "      <td>0.000000</td>\n",
       "      <td>0.285714</td>\n",
       "      <td>0.000000</td>\n",
       "      <td>1.0</td>\n",
       "      <td>0.333333</td>\n",
       "      <td>0.0</td>\n",
       "      <td>0.0</td>\n",
       "      <td>0.257212</td>\n",
       "      <td>0.280905</td>\n",
       "    </tr>\n",
       "    <tr>\n",
       "      <th>2</th>\n",
       "      <td>1.000000</td>\n",
       "      <td>0.000000</td>\n",
       "      <td>0.285714</td>\n",
       "      <td>0.000000</td>\n",
       "      <td>1.0</td>\n",
       "      <td>0.666667</td>\n",
       "      <td>0.0</td>\n",
       "      <td>0.0</td>\n",
       "      <td>0.257212</td>\n",
       "      <td>0.280905</td>\n",
       "    </tr>\n",
       "    <tr>\n",
       "      <th>3</th>\n",
       "      <td>1.000000</td>\n",
       "      <td>0.000000</td>\n",
       "      <td>0.285714</td>\n",
       "      <td>0.000000</td>\n",
       "      <td>1.0</td>\n",
       "      <td>1.000000</td>\n",
       "      <td>0.0</td>\n",
       "      <td>0.0</td>\n",
       "      <td>0.257212</td>\n",
       "      <td>0.280905</td>\n",
       "    </tr>\n",
       "    <tr>\n",
       "      <th>4</th>\n",
       "      <td>0.777778</td>\n",
       "      <td>0.166667</td>\n",
       "      <td>0.428571</td>\n",
       "      <td>0.111111</td>\n",
       "      <td>1.0</td>\n",
       "      <td>0.000000</td>\n",
       "      <td>0.0</td>\n",
       "      <td>0.0</td>\n",
       "      <td>0.399838</td>\n",
       "      <td>0.468085</td>\n",
       "    </tr>\n",
       "  </tbody>\n",
       "</table>\n",
       "</div>"
      ],
      "text/plain": [
       "   Relative_Compactness  Surface_Area  Wall_Area  Roof_Area  Overall_Height  \\\n",
       "0              1.000000      0.000000   0.285714   0.000000             1.0   \n",
       "1              1.000000      0.000000   0.285714   0.000000             1.0   \n",
       "2              1.000000      0.000000   0.285714   0.000000             1.0   \n",
       "3              1.000000      0.000000   0.285714   0.000000             1.0   \n",
       "4              0.777778      0.166667   0.428571   0.111111             1.0   \n",
       "\n",
       "   Orientation  Glazing_Area  Glazing_Area_Distribution  Heating_Load  \\\n",
       "0     0.000000           0.0                        0.0      0.257212   \n",
       "1     0.333333           0.0                        0.0      0.257212   \n",
       "2     0.666667           0.0                        0.0      0.257212   \n",
       "3     1.000000           0.0                        0.0      0.257212   \n",
       "4     0.000000           0.0                        0.0      0.399838   \n",
       "\n",
       "   Cooling_Load  \n",
       "0      0.280905  \n",
       "1      0.280905  \n",
       "2      0.280905  \n",
       "3      0.280905  \n",
       "4      0.468085  "
      ]
     },
     "execution_count": 10,
     "metadata": {},
     "output_type": "execute_result"
    }
   ],
   "source": [
    "n_df.head()"
   ]
  },
  {
   "cell_type": "code",
   "execution_count": 11,
   "id": "ebad1363",
   "metadata": {},
   "outputs": [],
   "source": [
    "heat = n_df[\"Heating_Load\"]\n",
    "##our target variable or y"
   ]
  },
  {
   "cell_type": "code",
   "execution_count": 12,
   "id": "629a4971",
   "metadata": {},
   "outputs": [],
   "source": [
    "x_df = n_df.drop(columns = [\"Heating_Load\", \"Cooling_Load\"])\n",
    "##our feature variables or x"
   ]
  },
  {
   "cell_type": "markdown",
   "id": "32169508",
   "metadata": {},
   "source": [
    "Split the dataset into training and testing datasets using \"train_test_split\""
   ]
  },
  {
   "cell_type": "code",
   "execution_count": 13,
   "id": "68e9e2a5",
   "metadata": {},
   "outputs": [],
   "source": [
    "x_train, x_test, y_train, y_test = train_test_split(x_df, heat, test_size =0.3,\n",
    "                                                    random_state = 1)"
   ]
  },
  {
   "cell_type": "markdown",
   "id": "68b68280",
   "metadata": {},
   "source": [
    "Fit the model to the training set"
   ]
  },
  {
   "cell_type": "code",
   "execution_count": 14,
   "id": "f74412dc",
   "metadata": {},
   "outputs": [],
   "source": [
    "linear_model = LinearRegression()"
   ]
  },
  {
   "cell_type": "markdown",
   "id": "aca13bd2",
   "metadata": {},
   "source": [
    "Train the Models"
   ]
  },
  {
   "cell_type": "code",
   "execution_count": 15,
   "id": "08f0bca0",
   "metadata": {},
   "outputs": [
    {
     "data": {
      "text/plain": [
       "LinearRegression()"
      ]
     },
     "execution_count": 15,
     "metadata": {},
     "output_type": "execute_result"
    }
   ],
   "source": [
    "linear_model.fit(x_train, y_train)"
   ]
  },
  {
   "cell_type": "markdown",
   "id": "b9231621",
   "metadata": {},
   "source": [
    "Obtain predictions"
   ]
  },
  {
   "cell_type": "code",
   "execution_count": 16,
   "id": "d53a08b1",
   "metadata": {},
   "outputs": [],
   "source": [
    "predicted_value = linear_model.predict(x_test)"
   ]
  },
  {
   "cell_type": "code",
   "execution_count": 17,
   "id": "9743c0eb",
   "metadata": {},
   "outputs": [
    {
     "data": {
      "text/plain": [
       "array([0.19165039, 0.57995605, 0.73937988, 0.71386719, 0.75952148,\n",
       "       0.24768066, 0.16967773, 0.60290527, 0.24243164, 0.54870605,\n",
       "       0.31713867, 0.65966797, 0.69519043, 0.30212402, 0.18994141,\n",
       "       0.71899414, 0.57385254, 0.31616211, 0.26074219, 0.74621582,\n",
       "       0.70129395, 0.07177734, 0.6126709 , 0.32629395, 0.2109375 ,\n",
       "       0.74377441, 0.33093262, 0.18725586, 0.79968262, 0.27050781,\n",
       "       0.67651367, 0.7331543 , 0.1427002 , 0.28466797, 0.56555176,\n",
       "       0.80761719, 0.33349609, 0.13476562, 0.72509766, 0.24584961,\n",
       "       0.82312012, 0.15942383, 0.11120605, 0.16687012, 0.11743164,\n",
       "       0.15283203, 0.484375  , 0.69238281, 0.75512695, 0.7199707 ,\n",
       "       0.10058594, 0.66577148, 0.10046387, 0.24841309, 0.76428223,\n",
       "       0.76867676, 0.73657227, 0.62841797, 0.15319824, 0.29760742,\n",
       "       0.19335938, 0.59521484, 0.60656738, 0.76599121, 0.56872559,\n",
       "       0.92578125, 0.68286133, 0.31884766, 0.67028809, 0.23742676,\n",
       "       0.5435791 , 0.25012207, 0.23291016, 0.72155762, 0.28637695,\n",
       "       0.6842041 , 0.63903809, 0.73999023, 0.25463867, 0.53283691,\n",
       "       0.13305664, 0.64526367, 0.25830078, 0.75634766, 0.23901367,\n",
       "       0.89941406, 0.91796875, 0.82763672, 0.25732422, 0.17858887,\n",
       "       0.63562012, 0.51257324, 0.14709473, 0.74890137, 0.26965332,\n",
       "       0.67199707, 0.14440918, 0.68457031, 0.05603027, 0.78100586,\n",
       "       0.76635742, 0.28198242, 0.61889648, 0.15930176, 0.27478027,\n",
       "       0.18640137, 0.59692383, 0.58435059, 0.625     , 0.83654785,\n",
       "       0.91345215, 0.45507812, 0.56384277, 0.14697266, 0.84606934,\n",
       "       0.10766602, 0.62963867, 0.69665527, 0.7064209 , 0.28808594,\n",
       "       0.54980469, 0.60021973, 0.26269531, 0.54528809, 0.71276855,\n",
       "       0.27856445, 0.07617188, 0.77038574, 0.10668945, 0.25549316,\n",
       "       0.79077148, 0.12524414, 0.70812988, 0.8013916 , 0.0447998 ,\n",
       "       0.67199707, 0.53112793, 0.09191895, 0.72619629, 0.20922852,\n",
       "       0.30651855, 0.60144043, 0.35107422, 0.23876953, 0.44995117,\n",
       "       0.62670898, 0.05322266, 0.82141113, 0.63134766, 0.26342773,\n",
       "       0.1661377 , 0.55932617, 0.77319336, 0.80480957, 0.30993652,\n",
       "       0.32739258, 0.64196777, 0.18908691, 0.70935059, 0.24487305,\n",
       "       0.53771973, 0.61352539, 0.72497559, 0.25378418, 0.72045898,\n",
       "       0.1652832 , 0.72668457, 0.63757324, 0.3404541 , 0.33874512,\n",
       "       0.16345215, 0.83032227, 0.71728516, 0.23425293, 0.13928223,\n",
       "       0.69055176, 0.1418457 , 0.72790527, 0.7322998 , 0.23083496,\n",
       "       0.75463867, 0.09020996, 0.61865234, 0.59838867, 0.73828125,\n",
       "       0.08300781, 0.14538574, 0.60180664, 0.17932129, 0.1607666 ,\n",
       "       0.24084473, 0.7454834 , 0.7479248 , 0.61547852, 0.15759277,\n",
       "       0.71435547, 0.04309082, 0.65429688, 0.06835938, 0.90734863,\n",
       "       0.33520508, 0.64025879, 0.33081055, 0.21899414, 0.53942871,\n",
       "       0.29870605, 0.74963379, 0.10229492, 0.22070312, 0.22412109,\n",
       "       0.71557617, 0.55493164, 0.57043457, 0.18371582, 0.09533691,\n",
       "       0.72338867, 0.17236328, 0.58337402, 0.22851562, 0.67663574,\n",
       "       0.68725586, 0.22949219, 0.60742188, 0.10778809, 0.53723145,\n",
       "       0.77490234, 0.53552246, 0.90905762, 0.22497559, 0.48950195,\n",
       "       0.76025391])"
      ]
     },
     "execution_count": 17,
     "metadata": {},
     "output_type": "execute_result"
    }
   ],
   "source": [
    "predicted_value"
   ]
  },
  {
   "cell_type": "code",
   "execution_count": 18,
   "id": "a68a75da",
   "metadata": {},
   "outputs": [
    {
     "data": {
      "text/plain": [
       "285    0.181451\n",
       "101    0.638177\n",
       "581    0.823942\n",
       "352    0.877865\n",
       "726    0.774063\n",
       "         ...   \n",
       "241    0.493934\n",
       "599    0.927743\n",
       "650    0.218118\n",
       "11     0.331626\n",
       "214    0.730116\n",
       "Name: Heating_Load, Length: 231, dtype: float64"
      ]
     },
     "execution_count": 18,
     "metadata": {},
     "output_type": "execute_result"
    }
   ],
   "source": [
    "y_test"
   ]
  },
  {
   "cell_type": "markdown",
   "id": "131b384c",
   "metadata": {},
   "source": [
    "# calculating the MAE(MEAN ABSOLUTE ERROR)"
   ]
  },
  {
   "cell_type": "code",
   "execution_count": 19,
   "id": "c37eb5bd",
   "metadata": {},
   "outputs": [],
   "source": [
    "mae = mean_absolute_error(y_test, predicted_value)"
   ]
  },
  {
   "cell_type": "code",
   "execution_count": 20,
   "id": "5947f943",
   "metadata": {},
   "outputs": [
    {
     "data": {
      "text/plain": [
       "0.063"
      ]
     },
     "execution_count": 20,
     "metadata": {},
     "output_type": "execute_result"
    }
   ],
   "source": [
    "round(mae, 3)"
   ]
  },
  {
   "cell_type": "markdown",
   "id": "88f017bd",
   "metadata": {},
   "source": [
    "# solving for residual sum of squares(RSS)"
   ]
  },
  {
   "cell_type": "code",
   "execution_count": 21,
   "id": "89517f63",
   "metadata": {},
   "outputs": [],
   "source": [
    "rss = np.sum(np.square(y_test - predicted_value)).round(3)"
   ]
  },
  {
   "cell_type": "code",
   "execution_count": 22,
   "id": "0e0bbae9",
   "metadata": {},
   "outputs": [
    {
     "data": {
      "text/plain": [
       "1.823"
      ]
     },
     "execution_count": 22,
     "metadata": {},
     "output_type": "execute_result"
    }
   ],
   "source": [
    "rss"
   ]
  },
  {
   "cell_type": "markdown",
   "id": "c2c4d112",
   "metadata": {},
   "source": [
    "# solving for root mean square error(RMSE)"
   ]
  },
  {
   "cell_type": "code",
   "execution_count": 23,
   "id": "1149e66b",
   "metadata": {},
   "outputs": [
    {
     "data": {
      "text/plain": [
       "0.089"
      ]
     },
     "execution_count": 23,
     "metadata": {},
     "output_type": "execute_result"
    }
   ],
   "source": [
    "rmse = np.sqrt(mean_squared_error(y_test, predicted_value)).round(3)\n",
    "rmse"
   ]
  },
  {
   "cell_type": "markdown",
   "id": "7d277c5f",
   "metadata": {},
   "source": [
    "# solving for Rsquared (coefficient of detemination)"
   ]
  },
  {
   "cell_type": "code",
   "execution_count": 24,
   "id": "d1039a04",
   "metadata": {},
   "outputs": [
    {
     "data": {
      "text/plain": [
       "0.893"
      ]
     },
     "execution_count": 24,
     "metadata": {},
     "output_type": "execute_result"
    }
   ],
   "source": [
    "r2 = r2_score(y_test, predicted_value).round(3)\n",
    "r2"
   ]
  },
  {
   "cell_type": "markdown",
   "id": "7dd90669",
   "metadata": {},
   "source": [
    "# PENALIZATION METHODS"
   ]
  },
  {
   "cell_type": "markdown",
   "id": "c941d410",
   "metadata": {},
   "source": [
    "RIDGE PENALIZATION(L2)"
   ]
  },
  {
   "cell_type": "code",
   "execution_count": 25,
   "id": "ed5ddd43",
   "metadata": {},
   "outputs": [
    {
     "data": {
      "text/plain": [
       "Ridge(alpha=0.5)"
      ]
     },
     "execution_count": 25,
     "metadata": {},
     "output_type": "execute_result"
    }
   ],
   "source": [
    "##importing the ridge library\n",
    "from sklearn.linear_model import Ridge\n",
    "\n",
    "ridge = Ridge(alpha = 0.5)\n",
    "ridge.fit(x_train, y_train)"
   ]
  },
  {
   "cell_type": "markdown",
   "id": "fb992dac",
   "metadata": {},
   "source": [
    "FEATURE SELECTION, LASSO (L1)"
   ]
  },
  {
   "cell_type": "code",
   "execution_count": 26,
   "id": "2dcc038a",
   "metadata": {},
   "outputs": [
    {
     "data": {
      "text/plain": [
       "Lasso(alpha=0.001)"
      ]
     },
     "execution_count": 26,
     "metadata": {},
     "output_type": "execute_result"
    }
   ],
   "source": [
    "###importing the lasso module\n",
    "\n",
    "from sklearn.linear_model import Lasso\n",
    "\n",
    "lasso = Lasso(alpha= 0.001)\n",
    "lasso.fit(x_train, y_train)"
   ]
  },
  {
   "cell_type": "code",
   "execution_count": 29,
   "id": "effe5a28",
   "metadata": {},
   "outputs": [],
   "source": [
    "###comparing the regularizations or penalization on \n",
    "###the lasso, ridge and linear regression\n",
    "\n",
    "\n",
    "##the function reurns the weightnof all  the features\n",
    "def get_weights_df(model, features, col_name):\n",
    "    weights = pd.Series(model.coef_, ##this brings the coefficient of the model\n",
    "                       features.columns).round(3).sort_values()\n",
    "    weights_df = pd.DataFrame(weights).reset_index()\n",
    "    weights_df.columns = [\"Features\", col_name]\n",
    "    return weights_df"
   ]
  },
  {
   "cell_type": "code",
   "execution_count": 37,
   "id": "823e7dc2",
   "metadata": {},
   "outputs": [],
   "source": [
    "linear_model_weights = get_weights_df(linear_model,\n",
    "                                     x_train,\n",
    "                                     \"Linear_Model_Weights\")\n",
    "ridge_weights = get_weights_df(ridge,\n",
    "                              x_train,\n",
    "                              \"Ridge_Weights\")\n",
    "lasso_weights = get_weights_df(lasso,\n",
    "                              x_train,\n",
    "                              \"Lasso_Weights\")"
   ]
  },
  {
   "cell_type": "code",
   "execution_count": 35,
   "id": "f6c54ed7",
   "metadata": {},
   "outputs": [
    {
     "data": {
      "text/html": [
       "<div>\n",
       "<style scoped>\n",
       "    .dataframe tbody tr th:only-of-type {\n",
       "        vertical-align: middle;\n",
       "    }\n",
       "\n",
       "    .dataframe tbody tr th {\n",
       "        vertical-align: top;\n",
       "    }\n",
       "\n",
       "    .dataframe thead th {\n",
       "        text-align: right;\n",
       "    }\n",
       "</style>\n",
       "<table border=\"1\" class=\"dataframe\">\n",
       "  <thead>\n",
       "    <tr style=\"text-align: right;\">\n",
       "      <th></th>\n",
       "      <th>Features</th>\n",
       "      <th>Linear_Model_Weights</th>\n",
       "      <th>Ridge_Weights</th>\n",
       "      <th>Lasso_Weights</th>\n",
       "    </tr>\n",
       "  </thead>\n",
       "  <tbody>\n",
       "    <tr>\n",
       "      <th>0</th>\n",
       "      <td>Surface_Area</td>\n",
       "      <td>-3.458933e+12</td>\n",
       "      <td>-0.062</td>\n",
       "      <td>0.000</td>\n",
       "    </tr>\n",
       "    <tr>\n",
       "      <th>1</th>\n",
       "      <td>Relative_Compactness</td>\n",
       "      <td>-6.060000e-01</td>\n",
       "      <td>-0.283</td>\n",
       "      <td>-0.028</td>\n",
       "    </tr>\n",
       "    <tr>\n",
       "      <th>2</th>\n",
       "      <td>Orientation</td>\n",
       "      <td>5.000000e-03</td>\n",
       "      <td>0.003</td>\n",
       "      <td>0.000</td>\n",
       "    </tr>\n",
       "    <tr>\n",
       "      <th>3</th>\n",
       "      <td>Glazing_Area_Distribution</td>\n",
       "      <td>3.100000e-02</td>\n",
       "      <td>0.029</td>\n",
       "      <td>0.021</td>\n",
       "    </tr>\n",
       "    <tr>\n",
       "      <th>4</th>\n",
       "      <td>Glazing_Area</td>\n",
       "      <td>2.130000e-01</td>\n",
       "      <td>0.212</td>\n",
       "      <td>0.206</td>\n",
       "    </tr>\n",
       "    <tr>\n",
       "      <th>5</th>\n",
       "      <td>Overall_Height</td>\n",
       "      <td>3.970000e-01</td>\n",
       "      <td>0.442</td>\n",
       "      <td>0.463</td>\n",
       "    </tr>\n",
       "    <tr>\n",
       "      <th>6</th>\n",
       "      <td>Wall_Area</td>\n",
       "      <td>2.017711e+12</td>\n",
       "      <td>0.103</td>\n",
       "      <td>0.200</td>\n",
       "    </tr>\n",
       "    <tr>\n",
       "      <th>7</th>\n",
       "      <td>Roof_Area</td>\n",
       "      <td>2.594200e+12</td>\n",
       "      <td>-0.163</td>\n",
       "      <td>-0.000</td>\n",
       "    </tr>\n",
       "  </tbody>\n",
       "</table>\n",
       "</div>"
      ],
      "text/plain": [
       "                    Features  Linear_Model_Weights  Ridge_Weights  \\\n",
       "0               Surface_Area         -3.458933e+12         -0.062   \n",
       "1       Relative_Compactness         -6.060000e-01         -0.283   \n",
       "2                Orientation          5.000000e-03          0.003   \n",
       "3  Glazing_Area_Distribution          3.100000e-02          0.029   \n",
       "4               Glazing_Area          2.130000e-01          0.212   \n",
       "5             Overall_Height          3.970000e-01          0.442   \n",
       "6                  Wall_Area          2.017711e+12          0.103   \n",
       "7                  Roof_Area          2.594200e+12         -0.163   \n",
       "\n",
       "   Lasso_Weights  \n",
       "0          0.000  \n",
       "1         -0.028  \n",
       "2          0.000  \n",
       "3          0.021  \n",
       "4          0.206  \n",
       "5          0.463  \n",
       "6          0.200  \n",
       "7         -0.000  "
      ]
     },
     "execution_count": 35,
     "metadata": {},
     "output_type": "execute_result"
    }
   ],
   "source": [
    "final_weights = pd.merge(linear_model_weights,\n",
    "                        ridge_weights, on= \"Features\")\n",
    "final_weights = pd.merge(final_weights,\n",
    "                        lasso_weights,\n",
    "                        on= \"Features\")\n",
    "final_weights"
   ]
  }
 ],
 "metadata": {
  "kernelspec": {
   "display_name": "Python 3 (ipykernel)",
   "language": "python",
   "name": "python3"
  },
  "language_info": {
   "codemirror_mode": {
    "name": "ipython",
    "version": 3
   },
   "file_extension": ".py",
   "mimetype": "text/x-python",
   "name": "python",
   "nbconvert_exporter": "python",
   "pygments_lexer": "ipython3",
   "version": "3.9.7"
  }
 },
 "nbformat": 4,
 "nbformat_minor": 5
}
