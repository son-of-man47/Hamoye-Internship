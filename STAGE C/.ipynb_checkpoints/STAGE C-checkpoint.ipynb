{
 "cells": [
  {
   "cell_type": "code",
   "execution_count": 1,
   "id": "91565396",
   "metadata": {},
   "outputs": [],
   "source": [
    "import pandas as pd\n",
    "import numpy as np"
   ]
  },
  {
   "cell_type": "markdown",
   "id": "8d3cde88",
   "metadata": {},
   "source": [
    "# LOGISTIC REGRESSION"
   ]
  },
  {
   "cell_type": "markdown",
   "id": "e86d0595",
   "metadata": {},
   "source": [
    "### IMPORTING OUR DATASET"
   ]
  },
  {
   "cell_type": "code",
   "execution_count": 2,
   "id": "4c9c8523",
   "metadata": {},
   "outputs": [
    {
     "name": "stderr",
     "output_type": "stream",
     "text": [
      "C:\\Users\\IROANYA\\anaconda3\\lib\\site-packages\\IPython\\core\\interactiveshell.py:3444: DtypeWarning: Columns (6) have mixed types.Specify dtype option on import or set low_memory=False.\n",
      "  exec(code_obj, self.user_global_ns, self.user_ns)\n"
     ]
    },
    {
     "data": {
      "text/html": [
       "<div>\n",
       "<style scoped>\n",
       "    .dataframe tbody tr th:only-of-type {\n",
       "        vertical-align: middle;\n",
       "    }\n",
       "\n",
       "    .dataframe tbody tr th {\n",
       "        vertical-align: top;\n",
       "    }\n",
       "\n",
       "    .dataframe thead th {\n",
       "        text-align: right;\n",
       "    }\n",
       "</style>\n",
       "<table border=\"1\" class=\"dataframe\">\n",
       "  <thead>\n",
       "    <tr style=\"text-align: right;\">\n",
       "      <th></th>\n",
       "      <th>country</th>\n",
       "      <th>year</th>\n",
       "      <th>country_code</th>\n",
       "      <th>record</th>\n",
       "      <th>crop_land</th>\n",
       "      <th>grazing_land</th>\n",
       "      <th>forest_land</th>\n",
       "      <th>fishing_ground</th>\n",
       "      <th>built_up_land</th>\n",
       "      <th>carbon</th>\n",
       "      <th>total</th>\n",
       "      <th>qscore</th>\n",
       "    </tr>\n",
       "  </thead>\n",
       "  <tbody>\n",
       "    <tr>\n",
       "      <th>0</th>\n",
       "      <td>Armenia</td>\n",
       "      <td>1992</td>\n",
       "      <td>1</td>\n",
       "      <td>AreaPerCap</td>\n",
       "      <td>0.140292</td>\n",
       "      <td>0.199546</td>\n",
       "      <td>0.097188051</td>\n",
       "      <td>0.036888</td>\n",
       "      <td>0.029320</td>\n",
       "      <td>0.000000</td>\n",
       "      <td>5.032351e-01</td>\n",
       "      <td>3A</td>\n",
       "    </tr>\n",
       "    <tr>\n",
       "      <th>1</th>\n",
       "      <td>Armenia</td>\n",
       "      <td>1992</td>\n",
       "      <td>1</td>\n",
       "      <td>AreaTotHA</td>\n",
       "      <td>483000.000000</td>\n",
       "      <td>687000.000000</td>\n",
       "      <td>334600</td>\n",
       "      <td>127000.000000</td>\n",
       "      <td>100943.000800</td>\n",
       "      <td>0.000000</td>\n",
       "      <td>1.732543e+06</td>\n",
       "      <td>3A</td>\n",
       "    </tr>\n",
       "    <tr>\n",
       "      <th>2</th>\n",
       "      <td>Armenia</td>\n",
       "      <td>1992</td>\n",
       "      <td>1</td>\n",
       "      <td>BiocapPerCap</td>\n",
       "      <td>0.159804</td>\n",
       "      <td>0.135261</td>\n",
       "      <td>0.084003213</td>\n",
       "      <td>0.013742</td>\n",
       "      <td>0.033398</td>\n",
       "      <td>0.000000</td>\n",
       "      <td>4.262086e-01</td>\n",
       "      <td>3A</td>\n",
       "    </tr>\n",
       "    <tr>\n",
       "      <th>3</th>\n",
       "      <td>Armenia</td>\n",
       "      <td>1992</td>\n",
       "      <td>1</td>\n",
       "      <td>BiocapTotGHA</td>\n",
       "      <td>550176.242700</td>\n",
       "      <td>465677.972200</td>\n",
       "      <td>289207.1078</td>\n",
       "      <td>47311.551720</td>\n",
       "      <td>114982.279300</td>\n",
       "      <td>0.000000</td>\n",
       "      <td>1.467355e+06</td>\n",
       "      <td>3A</td>\n",
       "    </tr>\n",
       "    <tr>\n",
       "      <th>4</th>\n",
       "      <td>Armenia</td>\n",
       "      <td>1992</td>\n",
       "      <td>1</td>\n",
       "      <td>EFConsPerCap</td>\n",
       "      <td>0.387510</td>\n",
       "      <td>0.189462</td>\n",
       "      <td>1.26E-06</td>\n",
       "      <td>0.004165</td>\n",
       "      <td>0.033398</td>\n",
       "      <td>1.114093</td>\n",
       "      <td>1.728629e+00</td>\n",
       "      <td>3A</td>\n",
       "    </tr>\n",
       "  </tbody>\n",
       "</table>\n",
       "</div>"
      ],
      "text/plain": [
       "   country  year  country_code        record      crop_land   grazing_land  \\\n",
       "0  Armenia  1992             1    AreaPerCap       0.140292       0.199546   \n",
       "1  Armenia  1992             1     AreaTotHA  483000.000000  687000.000000   \n",
       "2  Armenia  1992             1  BiocapPerCap       0.159804       0.135261   \n",
       "3  Armenia  1992             1  BiocapTotGHA  550176.242700  465677.972200   \n",
       "4  Armenia  1992             1  EFConsPerCap       0.387510       0.189462   \n",
       "\n",
       "   forest_land  fishing_ground  built_up_land    carbon         total qscore  \n",
       "0  0.097188051        0.036888       0.029320  0.000000  5.032351e-01     3A  \n",
       "1       334600   127000.000000  100943.000800  0.000000  1.732543e+06     3A  \n",
       "2  0.084003213        0.013742       0.033398  0.000000  4.262086e-01     3A  \n",
       "3  289207.1078    47311.551720  114982.279300  0.000000  1.467355e+06     3A  \n",
       "4     1.26E-06        0.004165       0.033398  1.114093  1.728629e+00     3A  "
      ]
     },
     "execution_count": 2,
     "metadata": {},
     "output_type": "execute_result"
    }
   ],
   "source": [
    "file = \"C:/Users/IROANYA/Documents/DATA ANALYSIS FILES/Hamoye-Internship/STAGE C/footprint-nfa-2019-edition/data/nfa_2019_public_data.csv\"\n",
    "dt = pd.read_csv(file)\n",
    "df = dt.copy()\n",
    "df.head()"
   ]
  },
  {
   "cell_type": "markdown",
   "id": "16b883be",
   "metadata": {},
   "source": [
    "## CHECKING NA VALUES"
   ]
  },
  {
   "cell_type": "code",
   "execution_count": 3,
   "id": "d6b9e717",
   "metadata": {},
   "outputs": [
    {
     "data": {
      "text/plain": [
       "country               0\n",
       "year                  0\n",
       "country_code          0\n",
       "record                0\n",
       "crop_land         20472\n",
       "grazing_land      20472\n",
       "forest_land       20472\n",
       "fishing_ground    20473\n",
       "built_up_land     20473\n",
       "carbon            20473\n",
       "total                 9\n",
       "qscore                1\n",
       "dtype: int64"
      ]
     },
     "execution_count": 3,
     "metadata": {},
     "output_type": "execute_result"
    }
   ],
   "source": [
    "df.isna().sum()"
   ]
  },
  {
   "cell_type": "code",
   "execution_count": 4,
   "id": "57a2f6e4",
   "metadata": {},
   "outputs": [
    {
     "data": {
      "text/plain": [
       "(72186, 12)"
      ]
     },
     "execution_count": 4,
     "metadata": {},
     "output_type": "execute_result"
    }
   ],
   "source": [
    "df.shape"
   ]
  },
  {
   "cell_type": "markdown",
   "id": "4fb865db",
   "metadata": {},
   "source": [
    "DROPPING THE NA VALUES FOR SIMPLICITY"
   ]
  },
  {
   "cell_type": "code",
   "execution_count": 5,
   "id": "79e18d0a",
   "metadata": {},
   "outputs": [
    {
     "data": {
      "text/plain": [
       "country           0\n",
       "year              0\n",
       "country_code      0\n",
       "record            0\n",
       "crop_land         0\n",
       "grazing_land      0\n",
       "forest_land       0\n",
       "fishing_ground    0\n",
       "built_up_land     0\n",
       "carbon            0\n",
       "total             0\n",
       "qscore            0\n",
       "dtype: int64"
      ]
     },
     "execution_count": 5,
     "metadata": {},
     "output_type": "execute_result"
    }
   ],
   "source": [
    "df = df.dropna()\n",
    "df.isna().sum()"
   ]
  },
  {
   "cell_type": "markdown",
   "id": "894bd847",
   "metadata": {},
   "source": [
    "### IDENTIFYING OUR TARGET VARIABLE"
   ]
  },
  {
   "cell_type": "code",
   "execution_count": 6,
   "id": "bf6f7c2f",
   "metadata": {},
   "outputs": [
    {
     "data": {
      "text/plain": [
       "3A    51473\n",
       "2A      224\n",
       "1A       16\n",
       "Name: qscore, dtype: int64"
      ]
     },
     "execution_count": 6,
     "metadata": {},
     "output_type": "execute_result"
    }
   ],
   "source": [
    "df[\"qscore\"].value_counts()"
   ]
  },
  {
   "cell_type": "markdown",
   "id": "49bd169f",
   "metadata": {},
   "source": [
    "FOR THE SAKE OF THIS STUDY WE WILL MAKE OUR TARGETS BINARY (3A & 2A)"
   ]
  },
  {
   "cell_type": "code",
   "execution_count": 7,
   "id": "54dcbeb9",
   "metadata": {},
   "outputs": [],
   "source": [
    "df[\"qscore\"] = df[\"qscore\"].replace(['1A'], '2A')"
   ]
  },
  {
   "cell_type": "code",
   "execution_count": 8,
   "id": "e1514312",
   "metadata": {},
   "outputs": [
    {
     "data": {
      "text/plain": [
       "3A    51473\n",
       "2A      240\n",
       "Name: qscore, dtype: int64"
      ]
     },
     "execution_count": 8,
     "metadata": {},
     "output_type": "execute_result"
    }
   ],
   "source": [
    "df[\"qscore\"].value_counts()"
   ]
  },
  {
   "cell_type": "markdown",
   "id": "25512e0d",
   "metadata": {},
   "source": [
    "WE HAVE SUCCESFULLY MADE OUR TARGET A BINARY CASE. NEXT WE HAVE TO REDUCE THE SIZE FOR SIMPLICITY"
   ]
  },
  {
   "cell_type": "code",
   "execution_count": 9,
   "id": "7c6a3cf0",
   "metadata": {},
   "outputs": [],
   "source": [
    "df_2A = df[df.qscore == \"2A\"]\n",
    "df_3A = df[df.qscore == \"3A\"].sample(350)"
   ]
  },
  {
   "cell_type": "code",
   "execution_count": 10,
   "id": "ba352a27",
   "metadata": {},
   "outputs": [
    {
     "data": {
      "text/html": [
       "<div>\n",
       "<style scoped>\n",
       "    .dataframe tbody tr th:only-of-type {\n",
       "        vertical-align: middle;\n",
       "    }\n",
       "\n",
       "    .dataframe tbody tr th {\n",
       "        vertical-align: top;\n",
       "    }\n",
       "\n",
       "    .dataframe thead th {\n",
       "        text-align: right;\n",
       "    }\n",
       "</style>\n",
       "<table border=\"1\" class=\"dataframe\">\n",
       "  <thead>\n",
       "    <tr style=\"text-align: right;\">\n",
       "      <th></th>\n",
       "      <th>country</th>\n",
       "      <th>year</th>\n",
       "      <th>country_code</th>\n",
       "      <th>record</th>\n",
       "      <th>crop_land</th>\n",
       "      <th>grazing_land</th>\n",
       "      <th>forest_land</th>\n",
       "      <th>fishing_ground</th>\n",
       "      <th>built_up_land</th>\n",
       "      <th>carbon</th>\n",
       "      <th>total</th>\n",
       "      <th>qscore</th>\n",
       "    </tr>\n",
       "  </thead>\n",
       "  <tbody>\n",
       "    <tr>\n",
       "      <th>1536</th>\n",
       "      <td>Algeria</td>\n",
       "      <td>2016</td>\n",
       "      <td>4</td>\n",
       "      <td>AreaPerCap</td>\n",
       "      <td>2.072989e-01</td>\n",
       "      <td>8.112722e-01</td>\n",
       "      <td>0.048357265</td>\n",
       "      <td>0.022585</td>\n",
       "      <td>2.998367e-02</td>\n",
       "      <td>0.000000</td>\n",
       "      <td>1.119497e+00</td>\n",
       "      <td>2A</td>\n",
       "    </tr>\n",
       "    <tr>\n",
       "      <th>1537</th>\n",
       "      <td>Algeria</td>\n",
       "      <td>2016</td>\n",
       "      <td>4</td>\n",
       "      <td>AreaTotHA</td>\n",
       "      <td>8.417600e+06</td>\n",
       "      <td>3.294260e+07</td>\n",
       "      <td>1963600</td>\n",
       "      <td>917100.000000</td>\n",
       "      <td>1.217520e+06</td>\n",
       "      <td>0.000000</td>\n",
       "      <td>4.545842e+07</td>\n",
       "      <td>2A</td>\n",
       "    </tr>\n",
       "    <tr>\n",
       "      <th>1538</th>\n",
       "      <td>Algeria</td>\n",
       "      <td>2016</td>\n",
       "      <td>4</td>\n",
       "      <td>BiocapPerCap</td>\n",
       "      <td>2.021916e-01</td>\n",
       "      <td>2.636077e-01</td>\n",
       "      <td>0.027166736</td>\n",
       "      <td>0.007948</td>\n",
       "      <td>2.924496e-02</td>\n",
       "      <td>0.000000</td>\n",
       "      <td>5.301590e-01</td>\n",
       "      <td>2A</td>\n",
       "    </tr>\n",
       "    <tr>\n",
       "      <th>1539</th>\n",
       "      <td>Algeria</td>\n",
       "      <td>2016</td>\n",
       "      <td>4</td>\n",
       "      <td>BiocapTotGHA</td>\n",
       "      <td>8.210214e+06</td>\n",
       "      <td>1.070408e+07</td>\n",
       "      <td>1103135.245</td>\n",
       "      <td>322736.916200</td>\n",
       "      <td>1.187524e+06</td>\n",
       "      <td>0.000000</td>\n",
       "      <td>2.152769e+07</td>\n",
       "      <td>2A</td>\n",
       "    </tr>\n",
       "    <tr>\n",
       "      <th>1540</th>\n",
       "      <td>Algeria</td>\n",
       "      <td>2016</td>\n",
       "      <td>4</td>\n",
       "      <td>EFConsPerCap</td>\n",
       "      <td>6.280528e-01</td>\n",
       "      <td>1.810332e-01</td>\n",
       "      <td>0.162800822</td>\n",
       "      <td>0.014729</td>\n",
       "      <td>2.924496e-02</td>\n",
       "      <td>1.391455</td>\n",
       "      <td>2.407316e+00</td>\n",
       "      <td>2A</td>\n",
       "    </tr>\n",
       "  </tbody>\n",
       "</table>\n",
       "</div>"
      ],
      "text/plain": [
       "      country  year  country_code        record     crop_land  grazing_land  \\\n",
       "1536  Algeria  2016             4    AreaPerCap  2.072989e-01  8.112722e-01   \n",
       "1537  Algeria  2016             4     AreaTotHA  8.417600e+06  3.294260e+07   \n",
       "1538  Algeria  2016             4  BiocapPerCap  2.021916e-01  2.636077e-01   \n",
       "1539  Algeria  2016             4  BiocapTotGHA  8.210214e+06  1.070408e+07   \n",
       "1540  Algeria  2016             4  EFConsPerCap  6.280528e-01  1.810332e-01   \n",
       "\n",
       "      forest_land  fishing_ground  built_up_land    carbon         total  \\\n",
       "1536  0.048357265        0.022585   2.998367e-02  0.000000  1.119497e+00   \n",
       "1537      1963600   917100.000000   1.217520e+06  0.000000  4.545842e+07   \n",
       "1538  0.027166736        0.007948   2.924496e-02  0.000000  5.301590e-01   \n",
       "1539  1103135.245   322736.916200   1.187524e+06  0.000000  2.152769e+07   \n",
       "1540  0.162800822        0.014729   2.924496e-02  1.391455  2.407316e+00   \n",
       "\n",
       "     qscore  \n",
       "1536     2A  \n",
       "1537     2A  \n",
       "1538     2A  \n",
       "1539     2A  \n",
       "1540     2A  "
      ]
     },
     "execution_count": 10,
     "metadata": {},
     "output_type": "execute_result"
    }
   ],
   "source": [
    "df_2A.head()"
   ]
  },
  {
   "cell_type": "code",
   "execution_count": 11,
   "id": "578e5418",
   "metadata": {},
   "outputs": [
    {
     "data": {
      "text/html": [
       "<div>\n",
       "<style scoped>\n",
       "    .dataframe tbody tr th:only-of-type {\n",
       "        vertical-align: middle;\n",
       "    }\n",
       "\n",
       "    .dataframe tbody tr th {\n",
       "        vertical-align: top;\n",
       "    }\n",
       "\n",
       "    .dataframe thead th {\n",
       "        text-align: right;\n",
       "    }\n",
       "</style>\n",
       "<table border=\"1\" class=\"dataframe\">\n",
       "  <thead>\n",
       "    <tr style=\"text-align: right;\">\n",
       "      <th></th>\n",
       "      <th>country</th>\n",
       "      <th>year</th>\n",
       "      <th>country_code</th>\n",
       "      <th>record</th>\n",
       "      <th>crop_land</th>\n",
       "      <th>grazing_land</th>\n",
       "      <th>forest_land</th>\n",
       "      <th>fishing_ground</th>\n",
       "      <th>built_up_land</th>\n",
       "      <th>carbon</th>\n",
       "      <th>total</th>\n",
       "      <th>qscore</th>\n",
       "    </tr>\n",
       "  </thead>\n",
       "  <tbody>\n",
       "    <tr>\n",
       "      <th>24373</th>\n",
       "      <td>Greece</td>\n",
       "      <td>1992</td>\n",
       "      <td>84</td>\n",
       "      <td>EFConsTotGHA</td>\n",
       "      <td>10445850.06</td>\n",
       "      <td>4.657285e+06</td>\n",
       "      <td>2952448.057</td>\n",
       "      <td>1217831.831</td>\n",
       "      <td>5.922574e+05</td>\n",
       "      <td>30202228.12</td>\n",
       "      <td>5.006790e+07</td>\n",
       "      <td>3A</td>\n",
       "    </tr>\n",
       "    <tr>\n",
       "      <th>55299</th>\n",
       "      <td>Sierra Leone</td>\n",
       "      <td>1967</td>\n",
       "      <td>197</td>\n",
       "      <td>AreaTotHA</td>\n",
       "      <td>440000.00</td>\n",
       "      <td>2.204000e+06</td>\n",
       "      <td>3126226.913</td>\n",
       "      <td>2705400.000</td>\n",
       "      <td>8.224020e+04</td>\n",
       "      <td>0.00</td>\n",
       "      <td>8.557867e+06</td>\n",
       "      <td>3A</td>\n",
       "    </tr>\n",
       "    <tr>\n",
       "      <th>13377</th>\n",
       "      <td>Congo</td>\n",
       "      <td>1975</td>\n",
       "      <td>46</td>\n",
       "      <td>AreaTotHA</td>\n",
       "      <td>562000.00</td>\n",
       "      <td>1.000000e+07</td>\n",
       "      <td>22723716.21</td>\n",
       "      <td>834900.000</td>\n",
       "      <td>5.175700e+04</td>\n",
       "      <td>0.00</td>\n",
       "      <td>3.417237e+07</td>\n",
       "      <td>3A</td>\n",
       "    </tr>\n",
       "    <tr>\n",
       "      <th>609</th>\n",
       "      <td>Afghanistan</td>\n",
       "      <td>2012</td>\n",
       "      <td>2</td>\n",
       "      <td>AreaTotHA</td>\n",
       "      <td>7910000.00</td>\n",
       "      <td>3.000000e+07</td>\n",
       "      <td>1350000</td>\n",
       "      <td>0.000</td>\n",
       "      <td>1.379500e+06</td>\n",
       "      <td>0.00</td>\n",
       "      <td>4.063950e+07</td>\n",
       "      <td>3A</td>\n",
       "    </tr>\n",
       "    <tr>\n",
       "      <th>63995</th>\n",
       "      <td>United Arab Emirates</td>\n",
       "      <td>2000</td>\n",
       "      <td>225</td>\n",
       "      <td>AreaTotHA</td>\n",
       "      <td>247000.00</td>\n",
       "      <td>3.050000e+05</td>\n",
       "      <td>310000</td>\n",
       "      <td>5108000.000</td>\n",
       "      <td>1.000000e+05</td>\n",
       "      <td>0.00</td>\n",
       "      <td>6.070000e+06</td>\n",
       "      <td>3A</td>\n",
       "    </tr>\n",
       "  </tbody>\n",
       "</table>\n",
       "</div>"
      ],
      "text/plain": [
       "                    country  year  country_code        record    crop_land  \\\n",
       "24373                Greece  1992            84  EFConsTotGHA  10445850.06   \n",
       "55299          Sierra Leone  1967           197     AreaTotHA    440000.00   \n",
       "13377                 Congo  1975            46     AreaTotHA    562000.00   \n",
       "609             Afghanistan  2012             2     AreaTotHA   7910000.00   \n",
       "63995  United Arab Emirates  2000           225     AreaTotHA    247000.00   \n",
       "\n",
       "       grazing_land  forest_land  fishing_ground  built_up_land       carbon  \\\n",
       "24373  4.657285e+06  2952448.057     1217831.831   5.922574e+05  30202228.12   \n",
       "55299  2.204000e+06  3126226.913     2705400.000   8.224020e+04         0.00   \n",
       "13377  1.000000e+07  22723716.21      834900.000   5.175700e+04         0.00   \n",
       "609    3.000000e+07      1350000           0.000   1.379500e+06         0.00   \n",
       "63995  3.050000e+05       310000     5108000.000   1.000000e+05         0.00   \n",
       "\n",
       "              total qscore  \n",
       "24373  5.006790e+07     3A  \n",
       "55299  8.557867e+06     3A  \n",
       "13377  3.417237e+07     3A  \n",
       "609    4.063950e+07     3A  \n",
       "63995  6.070000e+06     3A  "
      ]
     },
     "execution_count": 11,
     "metadata": {},
     "output_type": "execute_result"
    }
   ],
   "source": [
    "df_3A.head()"
   ]
  },
  {
   "cell_type": "markdown",
   "id": "f5121cfb",
   "metadata": {},
   "source": [
    "JOINING THE 2 NEW DATA FRAMES TOGETHER"
   ]
  },
  {
   "cell_type": "code",
   "execution_count": 12,
   "id": "56b852b7",
   "metadata": {},
   "outputs": [
    {
     "data": {
      "text/html": [
       "<div>\n",
       "<style scoped>\n",
       "    .dataframe tbody tr th:only-of-type {\n",
       "        vertical-align: middle;\n",
       "    }\n",
       "\n",
       "    .dataframe tbody tr th {\n",
       "        vertical-align: top;\n",
       "    }\n",
       "\n",
       "    .dataframe thead th {\n",
       "        text-align: right;\n",
       "    }\n",
       "</style>\n",
       "<table border=\"1\" class=\"dataframe\">\n",
       "  <thead>\n",
       "    <tr style=\"text-align: right;\">\n",
       "      <th></th>\n",
       "      <th>country</th>\n",
       "      <th>year</th>\n",
       "      <th>country_code</th>\n",
       "      <th>record</th>\n",
       "      <th>crop_land</th>\n",
       "      <th>grazing_land</th>\n",
       "      <th>forest_land</th>\n",
       "      <th>fishing_ground</th>\n",
       "      <th>built_up_land</th>\n",
       "      <th>carbon</th>\n",
       "      <th>total</th>\n",
       "      <th>qscore</th>\n",
       "    </tr>\n",
       "  </thead>\n",
       "  <tbody>\n",
       "    <tr>\n",
       "      <th>1536</th>\n",
       "      <td>Algeria</td>\n",
       "      <td>2016</td>\n",
       "      <td>4</td>\n",
       "      <td>AreaPerCap</td>\n",
       "      <td>2.072989e-01</td>\n",
       "      <td>8.112722e-01</td>\n",
       "      <td>0.048357265</td>\n",
       "      <td>0.022585</td>\n",
       "      <td>2.998367e-02</td>\n",
       "      <td>0.000000</td>\n",
       "      <td>1.119497e+00</td>\n",
       "      <td>2A</td>\n",
       "    </tr>\n",
       "    <tr>\n",
       "      <th>1537</th>\n",
       "      <td>Algeria</td>\n",
       "      <td>2016</td>\n",
       "      <td>4</td>\n",
       "      <td>AreaTotHA</td>\n",
       "      <td>8.417600e+06</td>\n",
       "      <td>3.294260e+07</td>\n",
       "      <td>1963600</td>\n",
       "      <td>917100.000000</td>\n",
       "      <td>1.217520e+06</td>\n",
       "      <td>0.000000</td>\n",
       "      <td>4.545842e+07</td>\n",
       "      <td>2A</td>\n",
       "    </tr>\n",
       "    <tr>\n",
       "      <th>1538</th>\n",
       "      <td>Algeria</td>\n",
       "      <td>2016</td>\n",
       "      <td>4</td>\n",
       "      <td>BiocapPerCap</td>\n",
       "      <td>2.021916e-01</td>\n",
       "      <td>2.636077e-01</td>\n",
       "      <td>0.027166736</td>\n",
       "      <td>0.007948</td>\n",
       "      <td>2.924496e-02</td>\n",
       "      <td>0.000000</td>\n",
       "      <td>5.301590e-01</td>\n",
       "      <td>2A</td>\n",
       "    </tr>\n",
       "    <tr>\n",
       "      <th>1539</th>\n",
       "      <td>Algeria</td>\n",
       "      <td>2016</td>\n",
       "      <td>4</td>\n",
       "      <td>BiocapTotGHA</td>\n",
       "      <td>8.210214e+06</td>\n",
       "      <td>1.070408e+07</td>\n",
       "      <td>1103135.245</td>\n",
       "      <td>322736.916200</td>\n",
       "      <td>1.187524e+06</td>\n",
       "      <td>0.000000</td>\n",
       "      <td>2.152769e+07</td>\n",
       "      <td>2A</td>\n",
       "    </tr>\n",
       "    <tr>\n",
       "      <th>1540</th>\n",
       "      <td>Algeria</td>\n",
       "      <td>2016</td>\n",
       "      <td>4</td>\n",
       "      <td>EFConsPerCap</td>\n",
       "      <td>6.280528e-01</td>\n",
       "      <td>1.810332e-01</td>\n",
       "      <td>0.162800822</td>\n",
       "      <td>0.014729</td>\n",
       "      <td>2.924496e-02</td>\n",
       "      <td>1.391455</td>\n",
       "      <td>2.407316e+00</td>\n",
       "      <td>2A</td>\n",
       "    </tr>\n",
       "  </tbody>\n",
       "</table>\n",
       "</div>"
      ],
      "text/plain": [
       "      country  year  country_code        record     crop_land  grazing_land  \\\n",
       "1536  Algeria  2016             4    AreaPerCap  2.072989e-01  8.112722e-01   \n",
       "1537  Algeria  2016             4     AreaTotHA  8.417600e+06  3.294260e+07   \n",
       "1538  Algeria  2016             4  BiocapPerCap  2.021916e-01  2.636077e-01   \n",
       "1539  Algeria  2016             4  BiocapTotGHA  8.210214e+06  1.070408e+07   \n",
       "1540  Algeria  2016             4  EFConsPerCap  6.280528e-01  1.810332e-01   \n",
       "\n",
       "      forest_land  fishing_ground  built_up_land    carbon         total  \\\n",
       "1536  0.048357265        0.022585   2.998367e-02  0.000000  1.119497e+00   \n",
       "1537      1963600   917100.000000   1.217520e+06  0.000000  4.545842e+07   \n",
       "1538  0.027166736        0.007948   2.924496e-02  0.000000  5.301590e-01   \n",
       "1539  1103135.245   322736.916200   1.187524e+06  0.000000  2.152769e+07   \n",
       "1540  0.162800822        0.014729   2.924496e-02  1.391455  2.407316e+00   \n",
       "\n",
       "     qscore  \n",
       "1536     2A  \n",
       "1537     2A  \n",
       "1538     2A  \n",
       "1539     2A  \n",
       "1540     2A  "
      ]
     },
     "execution_count": 12,
     "metadata": {},
     "output_type": "execute_result"
    }
   ],
   "source": [
    "n_df = df_2A.append(df_3A)\n",
    "n_df.head()"
   ]
  },
  {
   "cell_type": "code",
   "execution_count": 13,
   "id": "8f40cdc0",
   "metadata": {},
   "outputs": [
    {
     "data": {
      "text/plain": [
       "(590, 12)"
      ]
     },
     "execution_count": 13,
     "metadata": {},
     "output_type": "execute_result"
    }
   ],
   "source": [
    "n_df.shape"
   ]
  },
  {
   "cell_type": "code",
   "execution_count": 14,
   "id": "300616ed",
   "metadata": {},
   "outputs": [
    {
     "data": {
      "text/plain": [
       "3A    350\n",
       "2A    240\n",
       "Name: qscore, dtype: int64"
      ]
     },
     "execution_count": 14,
     "metadata": {},
     "output_type": "execute_result"
    }
   ],
   "source": [
    "n_df[\"qscore\"].value_counts()"
   ]
  },
  {
   "cell_type": "markdown",
   "id": "86861e0f",
   "metadata": {},
   "source": [
    "IMPORTING THE SKLEARN.UTILS MODULE TO SHUFFLE THE DATA"
   ]
  },
  {
   "cell_type": "code",
   "execution_count": 15,
   "id": "ed0188a0",
   "metadata": {},
   "outputs": [],
   "source": [
    "import sklearn.utils"
   ]
  },
  {
   "cell_type": "code",
   "execution_count": 16,
   "id": "90d9b88c",
   "metadata": {},
   "outputs": [
    {
     "data": {
      "text/html": [
       "<div>\n",
       "<style scoped>\n",
       "    .dataframe tbody tr th:only-of-type {\n",
       "        vertical-align: middle;\n",
       "    }\n",
       "\n",
       "    .dataframe tbody tr th {\n",
       "        vertical-align: top;\n",
       "    }\n",
       "\n",
       "    .dataframe thead th {\n",
       "        text-align: right;\n",
       "    }\n",
       "</style>\n",
       "<table border=\"1\" class=\"dataframe\">\n",
       "  <thead>\n",
       "    <tr style=\"text-align: right;\">\n",
       "      <th></th>\n",
       "      <th>country</th>\n",
       "      <th>year</th>\n",
       "      <th>country_code</th>\n",
       "      <th>record</th>\n",
       "      <th>crop_land</th>\n",
       "      <th>grazing_land</th>\n",
       "      <th>forest_land</th>\n",
       "      <th>fishing_ground</th>\n",
       "      <th>built_up_land</th>\n",
       "      <th>carbon</th>\n",
       "      <th>total</th>\n",
       "      <th>qscore</th>\n",
       "    </tr>\n",
       "  </thead>\n",
       "  <tbody>\n",
       "    <tr>\n",
       "      <th>0</th>\n",
       "      <td>Cameroon</td>\n",
       "      <td>1967</td>\n",
       "      <td>32</td>\n",
       "      <td>EFConsPerCap</td>\n",
       "      <td>0.392483</td>\n",
       "      <td>3.012435e-01</td>\n",
       "      <td>0.517898831</td>\n",
       "      <td>0.036717</td>\n",
       "      <td>0.018532</td>\n",
       "      <td>0.084976</td>\n",
       "      <td>1.351851e+00</td>\n",
       "      <td>3A</td>\n",
       "    </tr>\n",
       "    <tr>\n",
       "      <th>1</th>\n",
       "      <td>Timor-Leste</td>\n",
       "      <td>2016</td>\n",
       "      <td>176</td>\n",
       "      <td>EFConsTotGHA</td>\n",
       "      <td>289635.267000</td>\n",
       "      <td>7.813196e+04</td>\n",
       "      <td>40471.18629</td>\n",
       "      <td>26880.631110</td>\n",
       "      <td>48949.869650</td>\n",
       "      <td>145397.513200</td>\n",
       "      <td>6.294664e+05</td>\n",
       "      <td>2A</td>\n",
       "    </tr>\n",
       "    <tr>\n",
       "      <th>2</th>\n",
       "      <td>Somalia</td>\n",
       "      <td>1961</td>\n",
       "      <td>201</td>\n",
       "      <td>EFConsTotGHA</td>\n",
       "      <td>375641.525300</td>\n",
       "      <td>5.660779e+06</td>\n",
       "      <td>1044809.001</td>\n",
       "      <td>2679.956744</td>\n",
       "      <td>56676.567020</td>\n",
       "      <td>86300.499150</td>\n",
       "      <td>7.226887e+06</td>\n",
       "      <td>3A</td>\n",
       "    </tr>\n",
       "    <tr>\n",
       "      <th>3</th>\n",
       "      <td>Mongolia</td>\n",
       "      <td>2016</td>\n",
       "      <td>141</td>\n",
       "      <td>EFProdPerCap</td>\n",
       "      <td>0.186073</td>\n",
       "      <td>5.338478e+00</td>\n",
       "      <td>0.113399395</td>\n",
       "      <td>0.000008</td>\n",
       "      <td>0.059542</td>\n",
       "      <td>2.053936</td>\n",
       "      <td>7.751437e+00</td>\n",
       "      <td>2A</td>\n",
       "    </tr>\n",
       "    <tr>\n",
       "      <th>4</th>\n",
       "      <td>Israel</td>\n",
       "      <td>1994</td>\n",
       "      <td>105</td>\n",
       "      <td>BiocapPerCap</td>\n",
       "      <td>0.191903</td>\n",
       "      <td>1.041664e-02</td>\n",
       "      <td>0.043478755</td>\n",
       "      <td>0.024230</td>\n",
       "      <td>0.043682</td>\n",
       "      <td>0.000000</td>\n",
       "      <td>3.137103e-01</td>\n",
       "      <td>3A</td>\n",
       "    </tr>\n",
       "  </tbody>\n",
       "</table>\n",
       "</div>"
      ],
      "text/plain": [
       "       country  year  country_code        record      crop_land  grazing_land  \\\n",
       "0     Cameroon  1967            32  EFConsPerCap       0.392483  3.012435e-01   \n",
       "1  Timor-Leste  2016           176  EFConsTotGHA  289635.267000  7.813196e+04   \n",
       "2      Somalia  1961           201  EFConsTotGHA  375641.525300  5.660779e+06   \n",
       "3     Mongolia  2016           141  EFProdPerCap       0.186073  5.338478e+00   \n",
       "4       Israel  1994           105  BiocapPerCap       0.191903  1.041664e-02   \n",
       "\n",
       "   forest_land  fishing_ground  built_up_land         carbon         total  \\\n",
       "0  0.517898831        0.036717       0.018532       0.084976  1.351851e+00   \n",
       "1  40471.18629    26880.631110   48949.869650  145397.513200  6.294664e+05   \n",
       "2  1044809.001     2679.956744   56676.567020   86300.499150  7.226887e+06   \n",
       "3  0.113399395        0.000008       0.059542       2.053936  7.751437e+00   \n",
       "4  0.043478755        0.024230       0.043682       0.000000  3.137103e-01   \n",
       "\n",
       "  qscore  \n",
       "0     3A  \n",
       "1     2A  \n",
       "2     3A  \n",
       "3     2A  \n",
       "4     3A  "
      ]
     },
     "execution_count": 16,
     "metadata": {},
     "output_type": "execute_result"
    }
   ],
   "source": [
    "n_df = sklearn.utils.shuffle(n_df)\n",
    "n_df = n_df.reset_index(drop = True)\n",
    "n_df.head()"
   ]
  },
  {
   "cell_type": "code",
   "execution_count": 17,
   "id": "c9528f64",
   "metadata": {},
   "outputs": [
    {
     "data": {
      "text/plain": [
       "(590, 12)"
      ]
     },
     "execution_count": 17,
     "metadata": {},
     "output_type": "execute_result"
    }
   ],
   "source": [
    "n_df.shape"
   ]
  },
  {
   "cell_type": "markdown",
   "id": "d9eae8bc",
   "metadata": {},
   "source": [
    "#### PICKING OUR X AND Y FEATURES BEFORE SPLITTING"
   ]
  },
  {
   "cell_type": "code",
   "execution_count": 18,
   "id": "d111b2a5",
   "metadata": {},
   "outputs": [],
   "source": [
    "x = n_df.drop([\"country\", \"year\", \"country_code\", \"qscore\"], axis = 1)\n",
    "y = n_df[\"qscore\"]"
   ]
  },
  {
   "cell_type": "markdown",
   "id": "f05e76f3",
   "metadata": {},
   "source": [
    "#### SPLITTING"
   ]
  },
  {
   "cell_type": "code",
   "execution_count": 110,
   "id": "2293aceb",
   "metadata": {},
   "outputs": [],
   "source": [
    "from sklearn.model_selection import train_test_split"
   ]
  },
  {
   "cell_type": "code",
   "execution_count": 164,
   "id": "f3a4923a",
   "metadata": {},
   "outputs": [],
   "source": [
    "x_train, x_test, y_train, y_test = train_test_split(x, y, test_size=0.3, random_state=0)"
   ]
  },
  {
   "cell_type": "code",
   "execution_count": 165,
   "id": "b610489b",
   "metadata": {},
   "outputs": [
    {
     "data": {
      "text/plain": [
       "((413, 8), (413,), (177, 8), (177,))"
      ]
     },
     "execution_count": 165,
     "metadata": {},
     "output_type": "execute_result"
    }
   ],
   "source": [
    "x_train.shape, y_train.shape, x_test.shape, y_test.shape"
   ]
  },
  {
   "cell_type": "code",
   "execution_count": 166,
   "id": "f34e4cec",
   "metadata": {},
   "outputs": [
    {
     "data": {
      "text/plain": [
       "3A    246\n",
       "2A    167\n",
       "Name: qscore, dtype: int64"
      ]
     },
     "execution_count": 166,
     "metadata": {},
     "output_type": "execute_result"
    }
   ],
   "source": [
    "y_train.value_counts()"
   ]
  },
  {
   "cell_type": "markdown",
   "id": "4040da45",
   "metadata": {},
   "source": [
    "THERE IS STILL AN IMBALANCE IN THE CLASS DISTRIBUTION. TO HANDLE THIS, WE USE THE \"SMOTE\" ONLY ON THE TRAINING DATA"
   ]
  },
  {
   "cell_type": "code",
   "execution_count": 167,
   "id": "e6a6c243",
   "metadata": {},
   "outputs": [],
   "source": [
    "###FIRST ENCODE THE CATEGORICAL VARIABLES\n",
    "\n",
    "from sklearn.preprocessing import LabelEncoder\n",
    "encoder  = LabelEncoder()"
   ]
  },
  {
   "cell_type": "code",
   "execution_count": 168,
   "id": "1c887064",
   "metadata": {},
   "outputs": [],
   "source": [
    "x_train.record = encoder.fit_transform(x_train.record)\n",
    "x_test.record = encoder.fit_transform(x_test.record)"
   ]
  },
  {
   "cell_type": "code",
   "execution_count": 169,
   "id": "ec7d67e2",
   "metadata": {},
   "outputs": [
    {
     "data": {
      "text/html": [
       "<div>\n",
       "<style scoped>\n",
       "    .dataframe tbody tr th:only-of-type {\n",
       "        vertical-align: middle;\n",
       "    }\n",
       "\n",
       "    .dataframe tbody tr th {\n",
       "        vertical-align: top;\n",
       "    }\n",
       "\n",
       "    .dataframe thead th {\n",
       "        text-align: right;\n",
       "    }\n",
       "</style>\n",
       "<table border=\"1\" class=\"dataframe\">\n",
       "  <thead>\n",
       "    <tr style=\"text-align: right;\">\n",
       "      <th></th>\n",
       "      <th>record</th>\n",
       "      <th>crop_land</th>\n",
       "      <th>grazing_land</th>\n",
       "      <th>forest_land</th>\n",
       "      <th>fishing_ground</th>\n",
       "      <th>built_up_land</th>\n",
       "      <th>carbon</th>\n",
       "      <th>total</th>\n",
       "    </tr>\n",
       "  </thead>\n",
       "  <tbody>\n",
       "    <tr>\n",
       "      <th>285</th>\n",
       "      <td>5</td>\n",
       "      <td>2.222060e+07</td>\n",
       "      <td>2.567371e+06</td>\n",
       "      <td>14143720.88</td>\n",
       "      <td>1.344288e+06</td>\n",
       "      <td>2.829663e+06</td>\n",
       "      <td>6.367314e+07</td>\n",
       "      <td>1.067788e+08</td>\n",
       "    </tr>\n",
       "    <tr>\n",
       "      <th>113</th>\n",
       "      <td>5</td>\n",
       "      <td>8.274833e+05</td>\n",
       "      <td>3.178297e+05</td>\n",
       "      <td>2043564.505</td>\n",
       "      <td>1.074984e+05</td>\n",
       "      <td>5.479119e+04</td>\n",
       "      <td>1.794640e+05</td>\n",
       "      <td>3.530631e+06</td>\n",
       "    </tr>\n",
       "    <tr>\n",
       "      <th>18</th>\n",
       "      <td>4</td>\n",
       "      <td>5.702795e-01</td>\n",
       "      <td>1.808674e-02</td>\n",
       "      <td>0.208488521</td>\n",
       "      <td>1.637547e-01</td>\n",
       "      <td>6.323808e-02</td>\n",
       "      <td>1.463797e+00</td>\n",
       "      <td>2.487645e+00</td>\n",
       "    </tr>\n",
       "    <tr>\n",
       "      <th>76</th>\n",
       "      <td>0</td>\n",
       "      <td>1.139183e-01</td>\n",
       "      <td>1.124193e-01</td>\n",
       "      <td>0.049089777</td>\n",
       "      <td>4.650413e-02</td>\n",
       "      <td>1.916326e-02</td>\n",
       "      <td>0.000000e+00</td>\n",
       "      <td>3.410948e-01</td>\n",
       "    </tr>\n",
       "    <tr>\n",
       "      <th>206</th>\n",
       "      <td>2</td>\n",
       "      <td>1.506440e-01</td>\n",
       "      <td>4.087894e-01</td>\n",
       "      <td>0.662766756</td>\n",
       "      <td>5.067847e-02</td>\n",
       "      <td>4.705996e-02</td>\n",
       "      <td>0.000000e+00</td>\n",
       "      <td>1.319939e+00</td>\n",
       "    </tr>\n",
       "  </tbody>\n",
       "</table>\n",
       "</div>"
      ],
      "text/plain": [
       "     record     crop_land  grazing_land  forest_land  fishing_ground  \\\n",
       "285       5  2.222060e+07  2.567371e+06  14143720.88    1.344288e+06   \n",
       "113       5  8.274833e+05  3.178297e+05  2043564.505    1.074984e+05   \n",
       "18        4  5.702795e-01  1.808674e-02  0.208488521    1.637547e-01   \n",
       "76        0  1.139183e-01  1.124193e-01  0.049089777    4.650413e-02   \n",
       "206       2  1.506440e-01  4.087894e-01  0.662766756    5.067847e-02   \n",
       "\n",
       "     built_up_land        carbon         total  \n",
       "285   2.829663e+06  6.367314e+07  1.067788e+08  \n",
       "113   5.479119e+04  1.794640e+05  3.530631e+06  \n",
       "18    6.323808e-02  1.463797e+00  2.487645e+00  \n",
       "76    1.916326e-02  0.000000e+00  3.410948e-01  \n",
       "206   4.705996e-02  0.000000e+00  1.319939e+00  "
      ]
     },
     "execution_count": 169,
     "metadata": {},
     "output_type": "execute_result"
    }
   ],
   "source": [
    "x_train.head()"
   ]
  },
  {
   "cell_type": "code",
   "execution_count": 170,
   "id": "5095755f",
   "metadata": {},
   "outputs": [],
   "source": [
    "## import imblearn to access the smote function\n",
    "import imblearn"
   ]
  },
  {
   "cell_type": "code",
   "execution_count": 171,
   "id": "cc855ec1",
   "metadata": {},
   "outputs": [],
   "source": [
    "from imblearn.over_sampling import SMOTE\n",
    "smote = SMOTE(random_state=1)"
   ]
  },
  {
   "cell_type": "code",
   "execution_count": 172,
   "id": "c491554b",
   "metadata": {},
   "outputs": [],
   "source": [
    "###balancing the training models\n",
    "\n",
    "x_train_b, y_train_b = smote.fit_resample(x_train, y_train)"
   ]
  },
  {
   "cell_type": "code",
   "execution_count": 173,
   "id": "d14c28f0",
   "metadata": {},
   "outputs": [
    {
     "data": {
      "text/html": [
       "<div>\n",
       "<style scoped>\n",
       "    .dataframe tbody tr th:only-of-type {\n",
       "        vertical-align: middle;\n",
       "    }\n",
       "\n",
       "    .dataframe tbody tr th {\n",
       "        vertical-align: top;\n",
       "    }\n",
       "\n",
       "    .dataframe thead th {\n",
       "        text-align: right;\n",
       "    }\n",
       "</style>\n",
       "<table border=\"1\" class=\"dataframe\">\n",
       "  <thead>\n",
       "    <tr style=\"text-align: right;\">\n",
       "      <th></th>\n",
       "      <th>record</th>\n",
       "      <th>crop_land</th>\n",
       "      <th>grazing_land</th>\n",
       "      <th>forest_land</th>\n",
       "      <th>fishing_ground</th>\n",
       "      <th>built_up_land</th>\n",
       "      <th>carbon</th>\n",
       "      <th>total</th>\n",
       "    </tr>\n",
       "  </thead>\n",
       "  <tbody>\n",
       "    <tr>\n",
       "      <th>0</th>\n",
       "      <td>5</td>\n",
       "      <td>2.222060e+07</td>\n",
       "      <td>2.567371e+06</td>\n",
       "      <td>14143720.88</td>\n",
       "      <td>1.344288e+06</td>\n",
       "      <td>2.829663e+06</td>\n",
       "      <td>6.367314e+07</td>\n",
       "      <td>1.067788e+08</td>\n",
       "    </tr>\n",
       "    <tr>\n",
       "      <th>1</th>\n",
       "      <td>5</td>\n",
       "      <td>8.274833e+05</td>\n",
       "      <td>3.178297e+05</td>\n",
       "      <td>2043564.505</td>\n",
       "      <td>1.074984e+05</td>\n",
       "      <td>5.479119e+04</td>\n",
       "      <td>1.794640e+05</td>\n",
       "      <td>3.530631e+06</td>\n",
       "    </tr>\n",
       "    <tr>\n",
       "      <th>2</th>\n",
       "      <td>4</td>\n",
       "      <td>5.702795e-01</td>\n",
       "      <td>1.808674e-02</td>\n",
       "      <td>0.208489</td>\n",
       "      <td>1.637547e-01</td>\n",
       "      <td>6.323808e-02</td>\n",
       "      <td>1.463797e+00</td>\n",
       "      <td>2.487645e+00</td>\n",
       "    </tr>\n",
       "    <tr>\n",
       "      <th>3</th>\n",
       "      <td>0</td>\n",
       "      <td>1.139183e-01</td>\n",
       "      <td>1.124193e-01</td>\n",
       "      <td>0.04909</td>\n",
       "      <td>4.650413e-02</td>\n",
       "      <td>1.916326e-02</td>\n",
       "      <td>0.000000e+00</td>\n",
       "      <td>3.410948e-01</td>\n",
       "    </tr>\n",
       "    <tr>\n",
       "      <th>4</th>\n",
       "      <td>2</td>\n",
       "      <td>1.506440e-01</td>\n",
       "      <td>4.087894e-01</td>\n",
       "      <td>0.662767</td>\n",
       "      <td>5.067847e-02</td>\n",
       "      <td>4.705996e-02</td>\n",
       "      <td>0.000000e+00</td>\n",
       "      <td>1.319939e+00</td>\n",
       "    </tr>\n",
       "    <tr>\n",
       "      <th>...</th>\n",
       "      <td>...</td>\n",
       "      <td>...</td>\n",
       "      <td>...</td>\n",
       "      <td>...</td>\n",
       "      <td>...</td>\n",
       "      <td>...</td>\n",
       "      <td>...</td>\n",
       "      <td>...</td>\n",
       "    </tr>\n",
       "    <tr>\n",
       "      <th>487</th>\n",
       "      <td>2</td>\n",
       "      <td>1.542068e-01</td>\n",
       "      <td>5.193838e-02</td>\n",
       "      <td>0.053231</td>\n",
       "      <td>1.871010e-02</td>\n",
       "      <td>2.765997e-02</td>\n",
       "      <td>0.000000e+00</td>\n",
       "      <td>3.057466e-01</td>\n",
       "    </tr>\n",
       "    <tr>\n",
       "      <th>488</th>\n",
       "      <td>0</td>\n",
       "      <td>1.315543e-01</td>\n",
       "      <td>7.394226e-02</td>\n",
       "      <td>1.120043</td>\n",
       "      <td>9.432134e-01</td>\n",
       "      <td>3.373150e-02</td>\n",
       "      <td>0.000000e+00</td>\n",
       "      <td>2.302484e+00</td>\n",
       "    </tr>\n",
       "    <tr>\n",
       "      <th>489</th>\n",
       "      <td>6</td>\n",
       "      <td>1.380594e+07</td>\n",
       "      <td>5.294498e+06</td>\n",
       "      <td>4225710.785548</td>\n",
       "      <td>1.541243e+06</td>\n",
       "      <td>1.066055e+06</td>\n",
       "      <td>3.680913e+07</td>\n",
       "      <td>6.274257e+07</td>\n",
       "    </tr>\n",
       "    <tr>\n",
       "      <th>490</th>\n",
       "      <td>6</td>\n",
       "      <td>7.623675e+06</td>\n",
       "      <td>3.379145e+06</td>\n",
       "      <td>3325600.569194</td>\n",
       "      <td>2.849160e+06</td>\n",
       "      <td>1.208306e+06</td>\n",
       "      <td>2.152167e+07</td>\n",
       "      <td>3.990756e+07</td>\n",
       "    </tr>\n",
       "    <tr>\n",
       "      <th>491</th>\n",
       "      <td>2</td>\n",
       "      <td>4.389266e-01</td>\n",
       "      <td>2.924140e-02</td>\n",
       "      <td>2.279908</td>\n",
       "      <td>7.243560e-01</td>\n",
       "      <td>1.744207e-01</td>\n",
       "      <td>0.000000e+00</td>\n",
       "      <td>3.646853e+00</td>\n",
       "    </tr>\n",
       "  </tbody>\n",
       "</table>\n",
       "<p>492 rows × 8 columns</p>\n",
       "</div>"
      ],
      "text/plain": [
       "     record     crop_land  grazing_land     forest_land  fishing_ground  \\\n",
       "0         5  2.222060e+07  2.567371e+06     14143720.88    1.344288e+06   \n",
       "1         5  8.274833e+05  3.178297e+05     2043564.505    1.074984e+05   \n",
       "2         4  5.702795e-01  1.808674e-02        0.208489    1.637547e-01   \n",
       "3         0  1.139183e-01  1.124193e-01         0.04909    4.650413e-02   \n",
       "4         2  1.506440e-01  4.087894e-01        0.662767    5.067847e-02   \n",
       "..      ...           ...           ...             ...             ...   \n",
       "487       2  1.542068e-01  5.193838e-02        0.053231    1.871010e-02   \n",
       "488       0  1.315543e-01  7.394226e-02        1.120043    9.432134e-01   \n",
       "489       6  1.380594e+07  5.294498e+06  4225710.785548    1.541243e+06   \n",
       "490       6  7.623675e+06  3.379145e+06  3325600.569194    2.849160e+06   \n",
       "491       2  4.389266e-01  2.924140e-02        2.279908    7.243560e-01   \n",
       "\n",
       "     built_up_land        carbon         total  \n",
       "0     2.829663e+06  6.367314e+07  1.067788e+08  \n",
       "1     5.479119e+04  1.794640e+05  3.530631e+06  \n",
       "2     6.323808e-02  1.463797e+00  2.487645e+00  \n",
       "3     1.916326e-02  0.000000e+00  3.410948e-01  \n",
       "4     4.705996e-02  0.000000e+00  1.319939e+00  \n",
       "..             ...           ...           ...  \n",
       "487   2.765997e-02  0.000000e+00  3.057466e-01  \n",
       "488   3.373150e-02  0.000000e+00  2.302484e+00  \n",
       "489   1.066055e+06  3.680913e+07  6.274257e+07  \n",
       "490   1.208306e+06  2.152167e+07  3.990756e+07  \n",
       "491   1.744207e-01  0.000000e+00  3.646853e+00  \n",
       "\n",
       "[492 rows x 8 columns]"
      ]
     },
     "execution_count": 173,
     "metadata": {},
     "output_type": "execute_result"
    }
   ],
   "source": [
    "x_train_b"
   ]
  },
  {
   "cell_type": "code",
   "execution_count": 174,
   "id": "8b5f6453",
   "metadata": {},
   "outputs": [],
   "source": [
    "###scale the balanced training sets\n",
    "\n",
    "from sklearn.preprocessing import MinMaxScaler\n",
    "scaler = MinMaxScaler()"
   ]
  },
  {
   "cell_type": "code",
   "execution_count": 175,
   "id": "ff10eef2",
   "metadata": {},
   "outputs": [],
   "source": [
    "s_train = scaler.fit_transform(x_train_b.drop(\"record\", axis = 1))\n",
    "s_train = pd.DataFrame(s_train, columns = \n",
    "                      x_train_b.drop(\"record\", axis = 1).columns)\n",
    "s_train[\"record\"] = x_train_b[\"record\"]"
   ]
  },
  {
   "cell_type": "code",
   "execution_count": 176,
   "id": "d5774409",
   "metadata": {},
   "outputs": [],
   "source": [
    "x_test = x_test.reset_index(drop = True)\n",
    "s_test  = scaler.transform(x_test.drop(\"record\", axis = 1))\n",
    "s_test = pd.DataFrame(s_test,\n",
    "                     columns = x_test.drop(\"record\", axis = 1).columns)\n",
    "s_test[\"record\"] = x_test[\"record\"]"
   ]
  },
  {
   "cell_type": "code",
   "execution_count": 178,
   "id": "1e1662b8",
   "metadata": {},
   "outputs": [
    {
     "data": {
      "text/plain": [
       "((177, 8), (177, 8))"
      ]
     },
     "execution_count": 178,
     "metadata": {},
     "output_type": "execute_result"
    }
   ],
   "source": [
    "x_test.shape, s_test.shape"
   ]
  },
  {
   "cell_type": "markdown",
   "id": "232273bd",
   "metadata": {},
   "source": [
    "### LOGISTIC REGRESSION "
   ]
  },
  {
   "cell_type": "code",
   "execution_count": 154,
   "id": "4111abda",
   "metadata": {},
   "outputs": [],
   "source": [
    "from sklearn.linear_model import LogisticRegression\n",
    "log = LogisticRegression()"
   ]
  },
  {
   "cell_type": "code",
   "execution_count": 155,
   "id": "d4f3cc83",
   "metadata": {},
   "outputs": [
    {
     "data": {
      "text/html": [
       "<style>#sk-container-id-4 {color: black;background-color: white;}#sk-container-id-4 pre{padding: 0;}#sk-container-id-4 div.sk-toggleable {background-color: white;}#sk-container-id-4 label.sk-toggleable__label {cursor: pointer;display: block;width: 100%;margin-bottom: 0;padding: 0.3em;box-sizing: border-box;text-align: center;}#sk-container-id-4 label.sk-toggleable__label-arrow:before {content: \"▸\";float: left;margin-right: 0.25em;color: #696969;}#sk-container-id-4 label.sk-toggleable__label-arrow:hover:before {color: black;}#sk-container-id-4 div.sk-estimator:hover label.sk-toggleable__label-arrow:before {color: black;}#sk-container-id-4 div.sk-toggleable__content {max-height: 0;max-width: 0;overflow: hidden;text-align: left;background-color: #f0f8ff;}#sk-container-id-4 div.sk-toggleable__content pre {margin: 0.2em;color: black;border-radius: 0.25em;background-color: #f0f8ff;}#sk-container-id-4 input.sk-toggleable__control:checked~div.sk-toggleable__content {max-height: 200px;max-width: 100%;overflow: auto;}#sk-container-id-4 input.sk-toggleable__control:checked~label.sk-toggleable__label-arrow:before {content: \"▾\";}#sk-container-id-4 div.sk-estimator input.sk-toggleable__control:checked~label.sk-toggleable__label {background-color: #d4ebff;}#sk-container-id-4 div.sk-label input.sk-toggleable__control:checked~label.sk-toggleable__label {background-color: #d4ebff;}#sk-container-id-4 input.sk-hidden--visually {border: 0;clip: rect(1px 1px 1px 1px);clip: rect(1px, 1px, 1px, 1px);height: 1px;margin: -1px;overflow: hidden;padding: 0;position: absolute;width: 1px;}#sk-container-id-4 div.sk-estimator {font-family: monospace;background-color: #f0f8ff;border: 1px dotted black;border-radius: 0.25em;box-sizing: border-box;margin-bottom: 0.5em;}#sk-container-id-4 div.sk-estimator:hover {background-color: #d4ebff;}#sk-container-id-4 div.sk-parallel-item::after {content: \"\";width: 100%;border-bottom: 1px solid gray;flex-grow: 1;}#sk-container-id-4 div.sk-label:hover label.sk-toggleable__label {background-color: #d4ebff;}#sk-container-id-4 div.sk-serial::before {content: \"\";position: absolute;border-left: 1px solid gray;box-sizing: border-box;top: 0;bottom: 0;left: 50%;z-index: 0;}#sk-container-id-4 div.sk-serial {display: flex;flex-direction: column;align-items: center;background-color: white;padding-right: 0.2em;padding-left: 0.2em;position: relative;}#sk-container-id-4 div.sk-item {position: relative;z-index: 1;}#sk-container-id-4 div.sk-parallel {display: flex;align-items: stretch;justify-content: center;background-color: white;position: relative;}#sk-container-id-4 div.sk-item::before, #sk-container-id-4 div.sk-parallel-item::before {content: \"\";position: absolute;border-left: 1px solid gray;box-sizing: border-box;top: 0;bottom: 0;left: 50%;z-index: -1;}#sk-container-id-4 div.sk-parallel-item {display: flex;flex-direction: column;z-index: 1;position: relative;background-color: white;}#sk-container-id-4 div.sk-parallel-item:first-child::after {align-self: flex-end;width: 50%;}#sk-container-id-4 div.sk-parallel-item:last-child::after {align-self: flex-start;width: 50%;}#sk-container-id-4 div.sk-parallel-item:only-child::after {width: 0;}#sk-container-id-4 div.sk-dashed-wrapped {border: 1px dashed gray;margin: 0 0.4em 0.5em 0.4em;box-sizing: border-box;padding-bottom: 0.4em;background-color: white;}#sk-container-id-4 div.sk-label label {font-family: monospace;font-weight: bold;display: inline-block;line-height: 1.2em;}#sk-container-id-4 div.sk-label-container {text-align: center;}#sk-container-id-4 div.sk-container {/* jupyter's `normalize.less` sets `[hidden] { display: none; }` but bootstrap.min.css set `[hidden] { display: none !important; }` so we also need the `!important` here to be able to override the default hidden behavior on the sphinx rendered scikit-learn.org. See: https://github.com/scikit-learn/scikit-learn/issues/21755 */display: inline-block !important;position: relative;}#sk-container-id-4 div.sk-text-repr-fallback {display: none;}</style><div id=\"sk-container-id-4\" class=\"sk-top-container\"><div class=\"sk-text-repr-fallback\"><pre>LogisticRegression()</pre><b>In a Jupyter environment, please rerun this cell to show the HTML representation or trust the notebook. <br />On GitHub, the HTML representation is unable to render, please try loading this page with nbviewer.org.</b></div><div class=\"sk-container\" hidden><div class=\"sk-item\"><div class=\"sk-estimator sk-toggleable\"><input class=\"sk-toggleable__control sk-hidden--visually\" id=\"sk-estimator-id-4\" type=\"checkbox\" checked><label for=\"sk-estimator-id-4\" class=\"sk-toggleable__label sk-toggleable__label-arrow\">LogisticRegression</label><div class=\"sk-toggleable__content\"><pre>LogisticRegression()</pre></div></div></div></div></div>"
      ],
      "text/plain": [
       "LogisticRegression()"
      ]
     },
     "execution_count": 155,
     "metadata": {},
     "output_type": "execute_result"
    }
   ],
   "source": [
    "log.fit(s_train, y_train_b)"
   ]
  },
  {
   "cell_type": "markdown",
   "id": "679021cd",
   "metadata": {},
   "source": [
    "### MEASURING CLASSIFICATION PERFORMANCE"
   ]
  },
  {
   "cell_type": "markdown",
   "id": "ca6bfc7c",
   "metadata": {},
   "source": [
    "#### CROSS VALIDATION AND ACCURACY"
   ]
  },
  {
   "cell_type": "code",
   "execution_count": 156,
   "id": "c177499e",
   "metadata": {},
   "outputs": [],
   "source": [
    "##importing cross validation\n",
    "\n",
    "from sklearn.model_selection import cross_val_score"
   ]
  },
  {
   "cell_type": "code",
   "execution_count": 157,
   "id": "effa75cc",
   "metadata": {},
   "outputs": [
    {
     "data": {
      "text/plain": [
       "array([0.39614062, 0.44239631, 0.52719298, 0.58065896, 0.44528302])"
      ]
     },
     "execution_count": 157,
     "metadata": {},
     "output_type": "execute_result"
    }
   ],
   "source": [
    "scores = cross_val_score(log, s_train, y_train_b, cv = 5,\n",
    "                        scoring = \"f1_macro\")\n",
    "scores"
   ]
  },
  {
   "cell_type": "markdown",
   "id": "20130dd2",
   "metadata": {},
   "source": [
    "#### K-FOLD C.V"
   ]
  },
  {
   "cell_type": "code",
   "execution_count": 158,
   "id": "e855c98e",
   "metadata": {},
   "outputs": [
    {
     "data": {
      "text/plain": [
       "<generator object _BaseKFold.split at 0x000001C2154AF890>"
      ]
     },
     "execution_count": 158,
     "metadata": {},
     "output_type": "execute_result"
    }
   ],
   "source": [
    "from sklearn.model_selection import KFold\n",
    "kf = KFold(n_splits=5)\n",
    "kf.split(s_train)"
   ]
  },
  {
   "cell_type": "code",
   "execution_count": 159,
   "id": "15b8cbc2",
   "metadata": {},
   "outputs": [
    {
     "data": {
      "text/plain": [
       "[56.71641791044776,\n",
       " 50.45045045045045,\n",
       " 56.92307692307692,\n",
       " 58.91472868217055,\n",
       " 0.0]"
      ]
     },
     "execution_count": 159,
     "metadata": {},
     "output_type": "execute_result"
    }
   ],
   "source": [
    "f1_scores = []\n",
    "\n",
    "from sklearn.metrics import f1_score\n",
    "\n",
    "for train_index, test_index in kf.split(s_train):\n",
    "    x_train, x_test = np.array(s_train)[train_index], np.array(s_train)[test_index]\n",
    "    y_train, y_test = y_train_b[train_index], y_train_b[test_index]\n",
    "    \n",
    "    model = log.fit(x_train, y_train)\n",
    "    \n",
    "    f1_scores.append(f1_score(y_true = y_test,\n",
    "                              y_pred = model.predict(x_test),\n",
    "                              pos_label = \"2A\") * 100)\n",
    "\n",
    "f1_scores"
   ]
  },
  {
   "cell_type": "markdown",
   "id": "3b789227",
   "metadata": {},
   "source": [
    "#### STRATIFIED  KFOLD"
   ]
  },
  {
   "cell_type": "code",
   "execution_count": 160,
   "id": "a30a7865",
   "metadata": {},
   "outputs": [],
   "source": [
    "from sklearn.model_selection import StratifiedKFold\n",
    "\n",
    "skf = StratifiedKFold(n_splits=5, shuffle=True, random_state=1)"
   ]
  },
  {
   "cell_type": "code",
   "execution_count": 161,
   "id": "366dd2ac",
   "metadata": {},
   "outputs": [
    {
     "data": {
      "text/plain": [
       "[0.5054945054945055,\n",
       " 0.625,\n",
       " 0.48936170212765956,\n",
       " 0.6307692307692307,\n",
       " 0.5289256198347106]"
      ]
     },
     "execution_count": 161,
     "metadata": {},
     "output_type": "execute_result"
    }
   ],
   "source": [
    "f1_scores = []\n",
    "\n",
    "from sklearn.metrics import f1_score\n",
    "\n",
    "for train_index, test_index in skf.split(s_train, y_train_b):\n",
    "    x_train, x_test = np.array(s_train)[train_index], np.array(s_train)[test_index]\n",
    "    y_train, y_test = y_train_b[train_index], y_train_b[test_index]\n",
    "    \n",
    "    model = log.fit(x_train, y_train)\n",
    "    \n",
    "    f1_scores.append(f1_score(y_true = y_test, \n",
    "                              y_pred = model.predict(x_test),\n",
    "                              pos_label = '2A'))\n",
    "    \n",
    "f1_scores"
   ]
  },
  {
   "cell_type": "markdown",
   "id": "92a6a72f",
   "metadata": {},
   "source": [
    "#### LEAVE ONE OUT (LOO C.V)"
   ]
  },
  {
   "cell_type": "code",
   "execution_count": 162,
   "id": "19916b54",
   "metadata": {},
   "outputs": [
    {
     "data": {
      "text/plain": [
       "50.0"
      ]
     },
     "execution_count": 162,
     "metadata": {},
     "output_type": "execute_result"
    }
   ],
   "source": [
    "from sklearn.model_selection import LeaveOneOut\n",
    "loo = LeaveOneOut()\n",
    "\n",
    "scores = cross_val_score(log, s_train, y_train_b, cv=loo, scoring = \"f1_macro\")\n",
    "\n",
    "avg_scores = scores.mean() * 100\n",
    "\n",
    "avg_scores"
   ]
  },
  {
   "cell_type": "markdown",
   "id": "578474b1",
   "metadata": {},
   "source": [
    "#### CONFUSION MATRIX"
   ]
  },
  {
   "cell_type": "code",
   "execution_count": 179,
   "id": "0bd65297",
   "metadata": {},
   "outputs": [
    {
     "name": "stderr",
     "output_type": "stream",
     "text": [
      "C:\\Users\\IROANYA\\anaconda3\\lib\\site-packages\\sklearn\\base.py:443: UserWarning: X has feature names, but LogisticRegression was fitted without feature names\n",
      "  warnings.warn(\n"
     ]
    },
    {
     "data": {
      "text/plain": [
       "array([[51, 22],\n",
       "       [65, 39]], dtype=int64)"
      ]
     },
     "execution_count": 179,
     "metadata": {},
     "output_type": "execute_result"
    }
   ],
   "source": [
    "from sklearn.metrics import confusion_matrix\n",
    "\n",
    "n_pred = log.predict(s_test)\n",
    "cnf_mat = confusion_matrix(y_true= y_test, y_pred=n_pred, labels = [\"2A\", \"3A\"])\n",
    "cnf_mat"
   ]
  },
  {
   "cell_type": "markdown",
   "id": "aa6de1e6",
   "metadata": {},
   "source": [
    "#### ACCURACY"
   ]
  },
  {
   "cell_type": "code",
   "execution_count": 184,
   "id": "ebb021c1",
   "metadata": {},
   "outputs": [
    {
     "data": {
      "text/plain": [
       "50.85"
      ]
     },
     "execution_count": 184,
     "metadata": {},
     "output_type": "execute_result"
    }
   ],
   "source": [
    "from sklearn.metrics import accuracy_score\n",
    "\n",
    "acc = round(accuracy_score(y_true= y_test, y_pred = n_pred) * 100, 2)\n",
    "\n",
    "acc"
   ]
  },
  {
   "cell_type": "markdown",
   "id": "deb94258",
   "metadata": {},
   "source": [
    "#### PRECISION"
   ]
  },
  {
   "cell_type": "code",
   "execution_count": 188,
   "id": "26210baf",
   "metadata": {},
   "outputs": [
    {
     "data": {
      "text/plain": [
       "43.97"
      ]
     },
     "execution_count": 188,
     "metadata": {},
     "output_type": "execute_result"
    }
   ],
   "source": [
    "from sklearn.metrics import precision_score\n",
    "prec = round(precision_score(y_true= y_test, y_pred= n_pred, pos_label=  \"2A\") * 100, 2)\n",
    "prec"
   ]
  },
  {
   "cell_type": "markdown",
   "id": "2c69302b",
   "metadata": {},
   "source": [
    "#### RECALL"
   ]
  },
  {
   "cell_type": "code",
   "execution_count": 190,
   "id": "50df44c5",
   "metadata": {},
   "outputs": [
    {
     "data": {
      "text/plain": [
       "1"
      ]
     },
     "execution_count": 190,
     "metadata": {},
     "output_type": "execute_result"
    }
   ],
   "source": [
    "from sklearn.metrics import recall_score\n",
    "\n",
    "recall = round(recall_score(y_true= y_test, y_pred=n_pred, pos_label= \"2A\"))\n",
    "recall"
   ]
  },
  {
   "cell_type": "markdown",
   "id": "ac53b27a",
   "metadata": {},
   "source": [
    "#### F1-SCORE"
   ]
  },
  {
   "cell_type": "code",
   "execution_count": 191,
   "id": "79b9296c",
   "metadata": {},
   "outputs": [
    {
     "data": {
      "text/plain": [
       "53.97"
      ]
     },
     "execution_count": 191,
     "metadata": {},
     "output_type": "execute_result"
    }
   ],
   "source": [
    "f1 = round(f1_score(y_true= y_test, y_pred = n_pred, pos_label=\"2A\") * 100, 2)\n",
    "\n",
    "f1"
   ]
  },
  {
   "cell_type": "markdown",
   "id": "4166c628",
   "metadata": {},
   "source": [
    "## DECISION TREE"
   ]
  },
  {
   "cell_type": "code",
   "execution_count": 192,
   "id": "7eb56448",
   "metadata": {},
   "outputs": [
    {
     "data": {
      "text/html": [
       "<style>#sk-container-id-5 {color: black;background-color: white;}#sk-container-id-5 pre{padding: 0;}#sk-container-id-5 div.sk-toggleable {background-color: white;}#sk-container-id-5 label.sk-toggleable__label {cursor: pointer;display: block;width: 100%;margin-bottom: 0;padding: 0.3em;box-sizing: border-box;text-align: center;}#sk-container-id-5 label.sk-toggleable__label-arrow:before {content: \"▸\";float: left;margin-right: 0.25em;color: #696969;}#sk-container-id-5 label.sk-toggleable__label-arrow:hover:before {color: black;}#sk-container-id-5 div.sk-estimator:hover label.sk-toggleable__label-arrow:before {color: black;}#sk-container-id-5 div.sk-toggleable__content {max-height: 0;max-width: 0;overflow: hidden;text-align: left;background-color: #f0f8ff;}#sk-container-id-5 div.sk-toggleable__content pre {margin: 0.2em;color: black;border-radius: 0.25em;background-color: #f0f8ff;}#sk-container-id-5 input.sk-toggleable__control:checked~div.sk-toggleable__content {max-height: 200px;max-width: 100%;overflow: auto;}#sk-container-id-5 input.sk-toggleable__control:checked~label.sk-toggleable__label-arrow:before {content: \"▾\";}#sk-container-id-5 div.sk-estimator input.sk-toggleable__control:checked~label.sk-toggleable__label {background-color: #d4ebff;}#sk-container-id-5 div.sk-label input.sk-toggleable__control:checked~label.sk-toggleable__label {background-color: #d4ebff;}#sk-container-id-5 input.sk-hidden--visually {border: 0;clip: rect(1px 1px 1px 1px);clip: rect(1px, 1px, 1px, 1px);height: 1px;margin: -1px;overflow: hidden;padding: 0;position: absolute;width: 1px;}#sk-container-id-5 div.sk-estimator {font-family: monospace;background-color: #f0f8ff;border: 1px dotted black;border-radius: 0.25em;box-sizing: border-box;margin-bottom: 0.5em;}#sk-container-id-5 div.sk-estimator:hover {background-color: #d4ebff;}#sk-container-id-5 div.sk-parallel-item::after {content: \"\";width: 100%;border-bottom: 1px solid gray;flex-grow: 1;}#sk-container-id-5 div.sk-label:hover label.sk-toggleable__label {background-color: #d4ebff;}#sk-container-id-5 div.sk-serial::before {content: \"\";position: absolute;border-left: 1px solid gray;box-sizing: border-box;top: 0;bottom: 0;left: 50%;z-index: 0;}#sk-container-id-5 div.sk-serial {display: flex;flex-direction: column;align-items: center;background-color: white;padding-right: 0.2em;padding-left: 0.2em;position: relative;}#sk-container-id-5 div.sk-item {position: relative;z-index: 1;}#sk-container-id-5 div.sk-parallel {display: flex;align-items: stretch;justify-content: center;background-color: white;position: relative;}#sk-container-id-5 div.sk-item::before, #sk-container-id-5 div.sk-parallel-item::before {content: \"\";position: absolute;border-left: 1px solid gray;box-sizing: border-box;top: 0;bottom: 0;left: 50%;z-index: -1;}#sk-container-id-5 div.sk-parallel-item {display: flex;flex-direction: column;z-index: 1;position: relative;background-color: white;}#sk-container-id-5 div.sk-parallel-item:first-child::after {align-self: flex-end;width: 50%;}#sk-container-id-5 div.sk-parallel-item:last-child::after {align-self: flex-start;width: 50%;}#sk-container-id-5 div.sk-parallel-item:only-child::after {width: 0;}#sk-container-id-5 div.sk-dashed-wrapped {border: 1px dashed gray;margin: 0 0.4em 0.5em 0.4em;box-sizing: border-box;padding-bottom: 0.4em;background-color: white;}#sk-container-id-5 div.sk-label label {font-family: monospace;font-weight: bold;display: inline-block;line-height: 1.2em;}#sk-container-id-5 div.sk-label-container {text-align: center;}#sk-container-id-5 div.sk-container {/* jupyter's `normalize.less` sets `[hidden] { display: none; }` but bootstrap.min.css set `[hidden] { display: none !important; }` so we also need the `!important` here to be able to override the default hidden behavior on the sphinx rendered scikit-learn.org. See: https://github.com/scikit-learn/scikit-learn/issues/21755 */display: inline-block !important;position: relative;}#sk-container-id-5 div.sk-text-repr-fallback {display: none;}</style><div id=\"sk-container-id-5\" class=\"sk-top-container\"><div class=\"sk-text-repr-fallback\"><pre>DecisionTreeClassifier()</pre><b>In a Jupyter environment, please rerun this cell to show the HTML representation or trust the notebook. <br />On GitHub, the HTML representation is unable to render, please try loading this page with nbviewer.org.</b></div><div class=\"sk-container\" hidden><div class=\"sk-item\"><div class=\"sk-estimator sk-toggleable\"><input class=\"sk-toggleable__control sk-hidden--visually\" id=\"sk-estimator-id-5\" type=\"checkbox\" checked><label for=\"sk-estimator-id-5\" class=\"sk-toggleable__label sk-toggleable__label-arrow\">DecisionTreeClassifier</label><div class=\"sk-toggleable__content\"><pre>DecisionTreeClassifier()</pre></div></div></div></div></div>"
      ],
      "text/plain": [
       "DecisionTreeClassifier()"
      ]
     },
     "execution_count": 192,
     "metadata": {},
     "output_type": "execute_result"
    }
   ],
   "source": [
    "from sklearn.tree import DecisionTreeClassifier\n",
    "dec_tree = DecisionTreeClassifier()\n",
    "dec_tree.fit(s_train, y_train_b)"
   ]
  },
  {
   "cell_type": "code",
   "execution_count": 193,
   "id": "97ab3ef3",
   "metadata": {},
   "outputs": [],
   "source": [
    "d_pred = dec_tree.predict(s_test)"
   ]
  }
 ],
 "metadata": {
  "kernelspec": {
   "display_name": "Python 3 (ipykernel)",
   "language": "python",
   "name": "python3"
  },
  "language_info": {
   "codemirror_mode": {
    "name": "ipython",
    "version": 3
   },
   "file_extension": ".py",
   "mimetype": "text/x-python",
   "name": "python",
   "nbconvert_exporter": "python",
   "pygments_lexer": "ipython3",
   "version": "3.9.7"
  }
 },
 "nbformat": 4,
 "nbformat_minor": 5
}
